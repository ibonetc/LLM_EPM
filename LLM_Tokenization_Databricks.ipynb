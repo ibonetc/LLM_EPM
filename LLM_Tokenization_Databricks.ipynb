{
  "cells": [
    {
      "cell_type": "markdown",
      "metadata": {
        "id": "view-in-github",
        "colab_type": "text"
      },
      "source": [
        "<a href=\"https://colab.research.google.com/github/ibonetc/LLM_EPM/blob/main/LLM_Tokenization_Databricks.ipynb\" target=\"_parent\"><img src=\"https://colab.research.google.com/assets/colab-badge.svg\" alt=\"Open In Colab\"/></a>"
      ]
    },
    {
      "cell_type": "markdown",
      "metadata": {
        "application/vnd.databricks.v1+cell": {
          "cellMetadata": {},
          "inputWidgets": {},
          "nuid": "20b674b6-e888-4536-88c4-38547572613b",
          "showTitle": false,
          "title": ""
        },
        "id": "4IV6g5stMwHQ"
      },
      "source": [
        "# Ejemplo de Tokenización, Embedding y Similaridad"
      ]
    },
    {
      "cell_type": "code",
      "execution_count": null,
      "metadata": {
        "application/vnd.databricks.v1+cell": {
          "cellMetadata": {
            "byteLimit": 2048000,
            "rowLimit": 10000
          },
          "inputWidgets": {},
          "nuid": "d964709f-8f30-4012-b748-bb16f376038f",
          "showTitle": false,
          "title": ""
        },
        "id": "H_a9JU-qMwHS"
      },
      "outputs": [],
      "source": [
        "import torch\n",
        "from transformers import AutoTokenizer, AutoModel"
      ]
    },
    {
      "cell_type": "markdown",
      "metadata": {
        "application/vnd.databricks.v1+cell": {
          "cellMetadata": {},
          "inputWidgets": {},
          "nuid": "bc4afc0e-1bee-414b-96de-765a02d3ca5f",
          "showTitle": false,
          "title": ""
        },
        "id": "H7VMU8KQMwHU"
      },
      "source": [
        "## Texto de ejemplo"
      ]
    },
    {
      "cell_type": "code",
      "execution_count": null,
      "metadata": {
        "application/vnd.databricks.v1+cell": {
          "cellMetadata": {
            "byteLimit": 2048000,
            "rowLimit": 10000
          },
          "inputWidgets": {},
          "nuid": "272a3d21-f91d-4846-82cc-c0e4fe6d357e",
          "showTitle": false,
          "title": ""
        },
        "id": "P0OT8-dlMwHU"
      },
      "outputs": [],
      "source": [
        "texts = [\"Cancer diagnosis using Artificial intelligence\", \"Artificial intelligence in oncology\", \"Machine learning applications in medicine\"]"
      ]
    },
    {
      "cell_type": "markdown",
      "metadata": {
        "application/vnd.databricks.v1+cell": {
          "cellMetadata": {},
          "inputWidgets": {},
          "nuid": "73340a96-1425-402d-bbfe-f24c39f6d863",
          "showTitle": false,
          "title": ""
        },
        "id": "e6unHlHIMwHU"
      },
      "source": [
        "##Tokenización"
      ]
    },
    {
      "cell_type": "markdown",
      "metadata": {
        "application/vnd.databricks.v1+cell": {
          "cellMetadata": {},
          "inputWidgets": {},
          "nuid": "862d3432-5537-4002-a5a6-aa25e0ecdd82",
          "showTitle": false,
          "title": ""
        },
        "id": "jF5SZSOoMwHV"
      },
      "source": [
        "### Tokenización de los textos usando BERT"
      ]
    },
    {
      "cell_type": "code",
      "execution_count": null,
      "metadata": {
        "application/vnd.databricks.v1+cell": {
          "cellMetadata": {
            "byteLimit": 2048000,
            "rowLimit": 10000
          },
          "inputWidgets": {},
          "nuid": "8da68763-dc60-404c-8fd2-e0e261d2b47e",
          "showTitle": false,
          "title": ""
        },
        "id": "gelymLtwMwHV"
      },
      "outputs": [],
      "source": [
        "tokenizer = AutoTokenizer.from_pretrained(\"bert-base-uncased\")"
      ]
    },
    {
      "cell_type": "code",
      "execution_count": null,
      "metadata": {
        "application/vnd.databricks.v1+cell": {
          "cellMetadata": {
            "byteLimit": 2048000,
            "rowLimit": 10000
          },
          "inputWidgets": {},
          "nuid": "b2877ee5-f68a-4ff7-9a9f-5d7a78a8d052",
          "showTitle": false,
          "title": ""
        },
        "id": "JLgNaxENMwHV",
        "outputId": "deb06f18-ca39-43a4-c07c-7144afb60ca1"
      },
      "outputs": [
        {
          "output_type": "stream",
          "name": "stdout",
          "text": [
            "['cancer', 'diagnosis', 'using', 'artificial', 'intelligence']\n"
          ]
        }
      ],
      "source": [
        "tokens = tokenizer.tokenize(texts[0])\n",
        "print(tokens)"
      ]
    },
    {
      "cell_type": "code",
      "execution_count": null,
      "metadata": {
        "application/vnd.databricks.v1+cell": {
          "cellMetadata": {
            "byteLimit": 2048000,
            "rowLimit": 10000
          },
          "inputWidgets": {},
          "nuid": "b3633693-066a-45f0-9cfc-a3fef20b2fda",
          "showTitle": false,
          "title": ""
        },
        "id": "AGJmnFNhMwHW",
        "outputId": "c2ee7373-a5a3-4d7a-fcc0-0f581f19a2c5"
      },
      "outputs": [
        {
          "output_type": "stream",
          "name": "stdout",
          "text": [
            "{'input_ids': [101, 4456, 11616, 2478, 7976, 4454, 102], 'token_type_ids': [0, 0, 0, 0, 0, 0, 0], 'attention_mask': [1, 1, 1, 1, 1, 1, 1]}\n"
          ]
        }
      ],
      "source": [
        "tokens = tokenizer(texts[0])\n",
        "print(tokens)"
      ]
    },
    {
      "cell_type": "code",
      "execution_count": null,
      "metadata": {
        "application/vnd.databricks.v1+cell": {
          "cellMetadata": {
            "byteLimit": 2048000,
            "rowLimit": 10000
          },
          "inputWidgets": {},
          "nuid": "ba80c621-fba0-4662-b43a-12ca5f81d7dd",
          "showTitle": false,
          "title": ""
        },
        "id": "HTx5gFmUMwHW",
        "outputId": "5510a89a-72d6-4492-fa1e-6a332a2801d3"
      },
      "outputs": [
        {
          "output_type": "stream",
          "name": "stdout",
          "text": [
            "Token: [CLS], ID: 101\nToken: cancer, ID: 4456\nToken: diagnosis, ID: 11616\nToken: using, ID: 2478\nToken: artificial, ID: 7976\nToken: intelligence, ID: 4454\nToken: [SEP], ID: 102\n"
          ]
        }
      ],
      "source": [
        "for token_id in tokens['input_ids']:\n",
        "    token_text = tokenizer.decode([token_id])\n",
        "    print(f\"Token: {token_text}, ID: {token_id}\")"
      ]
    },
    {
      "cell_type": "markdown",
      "metadata": {
        "application/vnd.databricks.v1+cell": {
          "cellMetadata": {},
          "inputWidgets": {},
          "nuid": "85b95da2-76b2-4db1-98fe-5a7ecfc4f529",
          "showTitle": false,
          "title": ""
        },
        "id": "eHFg-9gGMwHX"
      },
      "source": [
        "BERT tiene tokens especiales, [CLS] y [SEP] tienen significados específicos que ayudan al modelo a comprender mejor la estructura y el contexto del texto:\n",
        "\n",
        "- [CLS] (ID: 101): Representa el inicio de una secuencia de texto. Este token se coloca siempre al principio de cualquier entrada de texto y actúa como un marcador para representar el \"significado\" de toda la frase o secuencia. En tareas como clasificación de frases, el embedding correspondiente a [CLS] al final del procesamiento se utiliza como una representación de la secuencia completa.\n",
        "- [SEP] (ID: 102): Indica el final de una secuencia. Este token se coloca al final de una oración o frase para señalar su final. En tareas de preguntas y respuestas o comparación de frases, se usa también para separar diferentes segmentos (por ejemplo, la pregunta y el contexto)."
      ]
    },
    {
      "cell_type": "markdown",
      "metadata": {
        "application/vnd.databricks.v1+cell": {
          "cellMetadata": {},
          "inputWidgets": {},
          "nuid": "a198e6ff-3128-4dc6-9afb-c0cca94adf20",
          "showTitle": false,
          "title": ""
        },
        "id": "Fwrfz1cbMwHX"
      },
      "source": [
        "### Tokenización de los textos usando Dolly (Tokenización basada en subpalabras)\n",
        "\n",
        "Modelos como Dolly usan Byte-Pair Encoding (BPE) u otros métodos de tokenización en subpalabras que dividen el texto en fragmentos más pequeños. Esto ayuda a capturar estructuras dentro de palabras y facilita el aprendizaje en palabras raras.\n",
        "Tiene un vocabulario limitado, en lugar de representar cada palabra del idioma, estos modelos dividen las palabras en fragmentos comunes. Por ejemplo, \"Cancer\" se convierte en \"Can\" y \"cer\", y \"Artificial\" en \"Art\" y \"ificial\".\n"
      ]
    },
    {
      "cell_type": "code",
      "execution_count": null,
      "metadata": {
        "application/vnd.databricks.v1+cell": {
          "cellMetadata": {
            "byteLimit": 2048000,
            "rowLimit": 10000
          },
          "inputWidgets": {},
          "nuid": "3ec79d4c-17d9-444b-9088-fcd64713f040",
          "showTitle": false,
          "title": ""
        },
        "id": "M04yIupGMwHX",
        "outputId": "c01c9912-3338-432c-8cd3-61199c722b66"
      },
      "outputs": [
        {
          "output_type": "stream",
          "name": "stderr",
          "text": [
            "Special tokens have been added in the vocabulary, make sure the associated word embeddings are fine-tuned or trained.\n"
          ]
        }
      ],
      "source": [
        "# Cargar el tokenizador y el modelo de Dolly\n",
        "tokenizer_dolly = AutoTokenizer.from_pretrained(\"databricks/dolly-v2-3b\")\n",
        "model_dolly = AutoModel.from_pretrained(\"databricks/dolly-v2-3b\")"
      ]
    },
    {
      "cell_type": "code",
      "execution_count": null,
      "metadata": {
        "application/vnd.databricks.v1+cell": {
          "cellMetadata": {
            "byteLimit": 2048000,
            "rowLimit": 10000
          },
          "inputWidgets": {},
          "nuid": "15665855-5b67-455a-8ee2-da8c324ca9af",
          "showTitle": false,
          "title": ""
        },
        "id": "FGBdS5pSMwHX"
      },
      "outputs": [],
      "source": [
        "tokens = tokenizer_dolly(texts[0], padding=True, truncation=True)"
      ]
    },
    {
      "cell_type": "code",
      "execution_count": null,
      "metadata": {
        "application/vnd.databricks.v1+cell": {
          "cellMetadata": {
            "byteLimit": 2048000,
            "rowLimit": 10000
          },
          "inputWidgets": {},
          "nuid": "9549b766-c9e7-40d2-8aa3-255d60afe37f",
          "showTitle": false,
          "title": ""
        },
        "id": "hZkPnaq4MwHY",
        "outputId": "303835ee-5e9e-4b92-a05d-a27c2950b5b5"
      },
      "outputs": [
        {
          "output_type": "execute_result",
          "data": {
            "text/plain": [
              "{'input_ids': [5804, 1209, 6120, 970, 3975, 11232, 9260], 'attention_mask': [1, 1, 1, 1, 1, 1, 1]}"
            ]
          },
          "execution_count": 24,
          "metadata": {}
        }
      ],
      "source": [
        "tokens"
      ]
    },
    {
      "cell_type": "code",
      "execution_count": null,
      "metadata": {
        "application/vnd.databricks.v1+cell": {
          "cellMetadata": {
            "byteLimit": 2048000,
            "rowLimit": 10000
          },
          "inputWidgets": {},
          "nuid": "c4e4b612-cbd0-4882-9fbe-07ef19bdf94f",
          "showTitle": false,
          "title": ""
        },
        "id": "fc_YzE0YMwHY",
        "outputId": "2ffd0b3a-5946-4cf4-9856-c677a4d82bd1"
      },
      "outputs": [
        {
          "output_type": "stream",
          "name": "stdout",
          "text": [
            "Token: Can, ID: 5804\nToken: cer, ID: 1209\nToken:  diagnosis, ID: 6120\nToken:  using, ID: 970\nToken:  Art, ID: 3975\nToken: ificial, ID: 11232\nToken:  intelligence, ID: 9260\n"
          ]
        }
      ],
      "source": [
        "for token_id in tokens['input_ids']:\n",
        "    token_text = tokenizer_dolly.decode([token_id])\n",
        "    print(f\"Token: {token_text}, ID: {token_id}\")"
      ]
    },
    {
      "cell_type": "code",
      "execution_count": null,
      "metadata": {
        "application/vnd.databricks.v1+cell": {
          "cellMetadata": {
            "byteLimit": 2048000,
            "rowLimit": 10000
          },
          "inputWidgets": {},
          "nuid": "c7f68435-0bfb-4611-bd61-51482cef51cd",
          "showTitle": false,
          "title": ""
        },
        "id": "LVN9yF5OMwHY"
      },
      "outputs": [],
      "source": [
        "\n",
        "tokens = tokenizer_dolly(texts, padding=True, truncation=True, return_tensors=\"pt\")\n"
      ]
    },
    {
      "cell_type": "code",
      "execution_count": null,
      "metadata": {
        "application/vnd.databricks.v1+cell": {
          "cellMetadata": {
            "byteLimit": 2048000,
            "rowLimit": 10000
          },
          "inputWidgets": {},
          "nuid": "d18ca2a5-aebe-4d0d-9ddf-d24786c262b9",
          "showTitle": false,
          "title": ""
        },
        "id": "IJbzAmVeMwHY",
        "outputId": "284f3f7b-72bd-464a-fb9d-9d200d17727c"
      },
      "outputs": [
        {
          "output_type": "execute_result",
          "data": {
            "text/plain": [
              "{'input_ids': tensor([[ 5804,  1209,  6120,   970,  3975, 11232,  9260],\n",
              "        [11796, 11232,  9260,   275, 18695,  1497,     0],\n",
              "        [32192,  4715,  4893,   275,  9921,     0,     0]]), 'attention_mask': tensor([[1, 1, 1, 1, 1, 1, 1],\n",
              "        [1, 1, 1, 1, 1, 1, 0],\n",
              "        [1, 1, 1, 1, 1, 0, 0]])}"
            ]
          },
          "execution_count": 28,
          "metadata": {}
        }
      ],
      "source": [
        "tokens"
      ]
    },
    {
      "cell_type": "markdown",
      "metadata": {
        "application/vnd.databricks.v1+cell": {
          "cellMetadata": {},
          "inputWidgets": {},
          "nuid": "41843e61-0152-4320-82bf-d7447526908b",
          "showTitle": false,
          "title": ""
        },
        "id": "LMBINMo_MwHZ"
      },
      "source": [
        "## Tokenización en Español"
      ]
    },
    {
      "cell_type": "code",
      "execution_count": null,
      "metadata": {
        "application/vnd.databricks.v1+cell": {
          "cellMetadata": {
            "byteLimit": 2048000,
            "rowLimit": 10000
          },
          "inputWidgets": {},
          "nuid": "0530e933-1dd3-433b-9c4c-05137298c31d",
          "showTitle": false,
          "title": ""
        },
        "id": "fF9AhiPYMwHZ",
        "outputId": "dbf91d6a-72df-4abb-bd27-3521df0c7f85",
        "colab": {
          "referenced_widgets": [
            "335a6ddaf0b849c5b57ffcc8472cb7b2",
            "59acf488e8db4a8bb0255d72d15d7ad0",
            "c57f9b4ec3c045fbae148b68c46ccbc4",
            "4ba3216342464f2c96c620fb7dfa7f23",
            "8e761b2bd40f451288ddf276bf1b00a4"
          ]
        }
      },
      "outputs": [
        {
          "output_type": "display_data",
          "data": {
            "application/vnd.jupyter.widget-view+json": {
              "model_id": "335a6ddaf0b849c5b57ffcc8472cb7b2",
              "version_major": 2,
              "version_minor": 0
            },
            "text/plain": [
              "tokenizer_config.json:   0%|          | 0.00/364 [00:00<?, ?B/s]"
            ]
          },
          "metadata": {}
        },
        {
          "output_type": "stream",
          "name": "stderr",
          "text": [
            "/databricks/python/lib/python3.11/site-packages/huggingface_hub/file_download.py:1132: FutureWarning: `resume_download` is deprecated and will be removed in version 1.0.0. Downloads always resume when possible. If you want to force a new download, use `force_download=True`.\n  warnings.warn(\n"
          ]
        },
        {
          "output_type": "display_data",
          "data": {
            "application/vnd.jupyter.widget-view+json": {
              "model_id": "59acf488e8db4a8bb0255d72d15d7ad0",
              "version_major": 2,
              "version_minor": 0
            },
            "text/plain": [
              "config.json:   0%|          | 0.00/648 [00:00<?, ?B/s]"
            ]
          },
          "metadata": {}
        },
        {
          "output_type": "display_data",
          "data": {
            "application/vnd.jupyter.widget-view+json": {
              "model_id": "c57f9b4ec3c045fbae148b68c46ccbc4",
              "version_major": 2,
              "version_minor": 0
            },
            "text/plain": [
              "vocab.txt:   0%|          | 0.00/242k [00:00<?, ?B/s]"
            ]
          },
          "metadata": {}
        },
        {
          "output_type": "display_data",
          "data": {
            "application/vnd.jupyter.widget-view+json": {
              "model_id": "4ba3216342464f2c96c620fb7dfa7f23",
              "version_major": 2,
              "version_minor": 0
            },
            "text/plain": [
              "tokenizer.json:   0%|          | 0.00/480k [00:00<?, ?B/s]"
            ]
          },
          "metadata": {}
        },
        {
          "output_type": "display_data",
          "data": {
            "application/vnd.jupyter.widget-view+json": {
              "model_id": "8e761b2bd40f451288ddf276bf1b00a4",
              "version_major": 2,
              "version_minor": 0
            },
            "text/plain": [
              "special_tokens_map.json:   0%|          | 0.00/134 [00:00<?, ?B/s]"
            ]
          },
          "metadata": {}
        }
      ],
      "source": [
        "tokenizer_spanish = AutoTokenizer.from_pretrained(\"dccuchile/bert-base-spanish-wwm-cased\")"
      ]
    },
    {
      "cell_type": "code",
      "execution_count": null,
      "metadata": {
        "application/vnd.databricks.v1+cell": {
          "cellMetadata": {
            "byteLimit": 2048000,
            "rowLimit": 10000
          },
          "inputWidgets": {},
          "nuid": "66d0a569-0e59-4911-9a62-a671ec06b5d8",
          "showTitle": false,
          "title": ""
        },
        "id": "iJ905NhYMwHZ"
      },
      "outputs": [],
      "source": [
        "frase = \"La inteligencia artificial está revolucionando la medicina.\""
      ]
    },
    {
      "cell_type": "code",
      "execution_count": null,
      "metadata": {
        "application/vnd.databricks.v1+cell": {
          "cellMetadata": {
            "byteLimit": 2048000,
            "rowLimit": 10000
          },
          "inputWidgets": {},
          "nuid": "c3c16ca0-74a4-49f7-b09f-7e12f718710f",
          "showTitle": false,
          "title": ""
        },
        "id": "obrdQ9iSMwHZ",
        "outputId": "906eed80-f28d-4ac9-8a57-7a8c8a4c455e"
      },
      "outputs": [
        {
          "output_type": "stream",
          "name": "stdout",
          "text": [
            "Tokens: ['La', 'inteligencia', 'artificial', 'está', 'revolucion', '##ando', 'la', 'medicina', '.']\n"
          ]
        }
      ],
      "source": [
        "tokens = tokenizer_spanish.tokenize(frase)\n",
        "print(\"Tokens:\", tokens)"
      ]
    },
    {
      "cell_type": "code",
      "execution_count": null,
      "metadata": {
        "application/vnd.databricks.v1+cell": {
          "cellMetadata": {
            "byteLimit": 2048000,
            "rowLimit": 10000
          },
          "inputWidgets": {},
          "nuid": "afd424ac-3662-44d6-af81-c40e8fc98c01",
          "showTitle": false,
          "title": ""
        },
        "id": "uNDBwlspMwHZ",
        "outputId": "bd985bf4-7ce2-41e7-a628-12d8655e3f3d"
      },
      "outputs": [
        {
          "output_type": "stream",
          "name": "stdout",
          "text": [
            "{'input_ids': [4, 1198, 9145, 16061, 1266, 10736, 1156, 1030, 8799, 1009, 5], 'token_type_ids': [0, 0, 0, 0, 0, 0, 0, 0, 0, 0, 0], 'attention_mask': [1, 1, 1, 1, 1, 1, 1, 1, 1, 1, 1]}\n"
          ]
        }
      ],
      "source": [
        "tokens = tokenizer_spanish(frase)\n",
        "print(tokens)"
      ]
    },
    {
      "cell_type": "code",
      "execution_count": null,
      "metadata": {
        "application/vnd.databricks.v1+cell": {
          "cellMetadata": {
            "byteLimit": 2048000,
            "rowLimit": 10000
          },
          "inputWidgets": {},
          "nuid": "c7fca75b-7143-4493-bc0e-214f4db3691d",
          "showTitle": false,
          "title": ""
        },
        "id": "Y38T54NtMwHa",
        "outputId": "b3b3a656-b7ca-466f-8290-4ee9df636465"
      },
      "outputs": [
        {
          "output_type": "stream",
          "name": "stdout",
          "text": [
            "Token: [CLS], ID: 4\nToken: La, ID: 1198\nToken: inteligencia, ID: 9145\nToken: artificial, ID: 16061\nToken: está, ID: 1266\nToken: revolucion, ID: 10736\nToken: ##ando, ID: 1156\nToken: la, ID: 1030\nToken: medicina, ID: 8799\nToken: ., ID: 1009\nToken: [SEP], ID: 5\n"
          ]
        }
      ],
      "source": [
        "for token_id in tokens['input_ids']:\n",
        "    token_text = tokenizer_spanish.decode([token_id])\n",
        "    print(f\"Token: {token_text}, ID: {token_id}\")"
      ]
    },
    {
      "cell_type": "markdown",
      "metadata": {
        "application/vnd.databricks.v1+cell": {
          "cellMetadata": {},
          "inputWidgets": {},
          "nuid": "be5eac3c-7473-4e60-b067-6a85d0f45ee4",
          "showTitle": false,
          "title": ""
        },
        "id": "81RfTFWlMwHa"
      },
      "source": [
        "Los símbolos ## en los tokens indican que el token actual es una continuación de una palabra y no el inicio de una nueva palabra. Este tipo de tokenización es común en los modelos que emplean WordPiece (como BERT y BETO) para crear representaciones de subpalabras. Esto permite que el modelo divida palabras en fragmentos más pequeños cuando no encuentra una coincidencia completa en su vocabulario."
      ]
    },
    {
      "cell_type": "code",
      "execution_count": null,
      "metadata": {
        "application/vnd.databricks.v1+cell": {
          "cellMetadata": {
            "byteLimit": 2048000,
            "rowLimit": 10000
          },
          "inputWidgets": {},
          "nuid": "a155e994-7418-4100-876c-0d2a0a3ad097",
          "showTitle": false,
          "title": ""
        },
        "id": "DzVI6vKrMwHa",
        "outputId": "9522b3ee-8984-4564-cb7d-8a29ae96f162"
      },
      "outputs": [
        {
          "output_type": "stream",
          "name": "stdout",
          "text": [
            "{'input_ids': [4, 1030, 9145, 16061, 1266, 10736, 1156, 1030, 8799, 1009, 5], 'token_type_ids': [0, 0, 0, 0, 0, 0, 0, 0, 0, 0, 0], 'attention_mask': [1, 1, 1, 1, 1, 1, 1, 1, 1, 1, 1]}\nToken: [CLS], ID: 4\nToken: la, ID: 1030\nToken: inteligencia, ID: 9145\nToken: artificial, ID: 16061\nToken: está, ID: 1266\nToken: revolucion, ID: 10736\nToken: ##ando, ID: 1156\nToken: la, ID: 1030\nToken: medicina, ID: 8799\nToken: ., ID: 1009\nToken: [SEP], ID: 5\n"
          ]
        }
      ],
      "source": [
        "tokens = tokenizer_spanish(frase.lower())\n",
        "print(tokens)\n",
        "for token_id in tokens['input_ids']:\n",
        "    token_text = tokenizer_spanish.decode([token_id])\n",
        "    print(f\"Token: {token_text}, ID: {token_id}\")"
      ]
    },
    {
      "cell_type": "markdown",
      "metadata": {
        "application/vnd.databricks.v1+cell": {
          "cellMetadata": {},
          "inputWidgets": {},
          "nuid": "490beb53-a4c5-453c-bf69-554a63e40735",
          "showTitle": false,
          "title": ""
        },
        "id": "zitlNX6VMwHa"
      },
      "source": [
        "El modelo es case-sensitive (distingue entre mayúsculas y minúsculas), fíjese que si ponemos toda la frase en minúsculas, ahora el artículo la y La tienen el mismo ID"
      ]
    },
    {
      "cell_type": "markdown",
      "metadata": {
        "application/vnd.databricks.v1+cell": {
          "cellMetadata": {},
          "inputWidgets": {},
          "nuid": "475fe10b-6458-4f3d-acd9-b1e8cc299957",
          "showTitle": false,
          "title": ""
        },
        "id": "vdaxeWhBMwHb"
      },
      "source": [
        "## Embeddings"
      ]
    },
    {
      "cell_type": "code",
      "execution_count": null,
      "metadata": {
        "application/vnd.databricks.v1+cell": {
          "cellMetadata": {
            "byteLimit": 2048000,
            "rowLimit": 10000
          },
          "inputWidgets": {},
          "nuid": "f01968b5-857d-493a-be65-4fc29266805b",
          "showTitle": false,
          "title": ""
        },
        "id": "DjjJxKcVMwHb",
        "outputId": "d6bbd2a7-bb6b-408b-a8d1-41bd24a04a83"
      },
      "outputs": [
        {
          "output_type": "stream",
          "name": "stdout",
          "text": [
            "torch.Size([3, 2560])\n"
          ]
        }
      ],
      "source": [
        "with torch.no_grad():\n",
        "    embeddings = model_dolly(**tokens).last_hidden_state.mean(dim=1)\n",
        "print(embeddings.shape)"
      ]
    },
    {
      "cell_type": "markdown",
      "metadata": {
        "application/vnd.databricks.v1+cell": {
          "cellMetadata": {},
          "inputWidgets": {},
          "nuid": "adf7d5fd-2c03-49f3-849f-e24bd4aa1a89",
          "showTitle": false,
          "title": ""
        },
        "id": "cooM0gZNMwHb"
      },
      "source": [
        "### Convertir embedding a numpy"
      ]
    },
    {
      "cell_type": "code",
      "execution_count": null,
      "metadata": {
        "application/vnd.databricks.v1+cell": {
          "cellMetadata": {
            "byteLimit": 2048000,
            "rowLimit": 10000
          },
          "inputWidgets": {},
          "nuid": "1878646b-65a5-4e55-99e9-9525a91bb074",
          "showTitle": false,
          "title": ""
        },
        "id": "QJ_avPzJMwHb",
        "outputId": "733b4799-b8ba-4f7b-f07a-6a0528291431"
      },
      "outputs": [
        {
          "output_type": "stream",
          "name": "stdout",
          "text": [
            "[[-2.0223444   0.7598098   0.27845407 ...  0.8714382  -0.45102414\n   0.03034343]\n [-0.32785818  0.5927394   0.5237502  ...  1.1761496  -0.00266968\n   0.29300246]\n [-0.1243554   0.71428496  0.4004264  ...  1.1053077   0.50290143\n   1.0365784 ]]\n"
          ]
        }
      ],
      "source": [
        "embeddings_np = embeddings.numpy()\n",
        "\n",
        "# Imprimir los valores\n",
        "print(embeddings_np)"
      ]
    },
    {
      "cell_type": "markdown",
      "metadata": {
        "application/vnd.databricks.v1+cell": {
          "cellMetadata": {},
          "inputWidgets": {},
          "nuid": "d1412912-0e66-445c-82f3-31036df14170",
          "showTitle": false,
          "title": ""
        },
        "id": "4r4SNnpzMwHb"
      },
      "source": [
        "### Visualizar todos los números"
      ]
    },
    {
      "cell_type": "code",
      "execution_count": null,
      "metadata": {
        "application/vnd.databricks.v1+cell": {
          "cellMetadata": {
            "byteLimit": 2048000,
            "rowLimit": 10000
          },
          "inputWidgets": {},
          "nuid": "5c8bd6b5-b1dc-4ec2-89b0-bd6e4e2d3c5d",
          "showTitle": false,
          "title": ""
        },
        "id": "09N46yb6MwHb"
      },
      "outputs": [],
      "source": [
        "import numpy as np\n",
        "np.set_printoptions(threshold=np.inf)"
      ]
    },
    {
      "cell_type": "code",
      "execution_count": null,
      "metadata": {
        "application/vnd.databricks.v1+cell": {
          "cellMetadata": {
            "byteLimit": 2048000,
            "rowLimit": 10000
          },
          "inputWidgets": {},
          "nuid": "3049dc01-adbf-4f7d-a732-d75587e4e1c1",
          "showTitle": false,
          "title": ""
        },
        "id": "SH3lhXqEMwHc",
        "outputId": "59d8aaa3-fb99-4c1f-a2c6-029e836c810f"
      },
      "outputs": [
        {
          "output_type": "stream",
          "name": "stdout",
          "text": [
            "[[-2.02234435e+00  7.59809792e-01  2.78454065e-01  1.77691340e+00\n  -1.35738921e+00 -8.84500384e-01 -2.29290986e+00 -1.66144192e+00\n   1.06015027e+00 -1.08367527e+00 -6.56312823e-01 -5.19231856e-01\n   1.19517899e+00  6.23852074e-01  1.89478278e-01 -4.57682937e-01\n   4.72000778e-01  1.99422501e-02 -1.30809522e+00 -4.63707030e-01\n   1.86099410e+00  3.68473381e-01  8.08374360e-02 -4.88111109e-01\n  -1.77924842e-01 -6.51084721e-01  8.56001019e-01  1.45929635e+00\n   3.51124376e-01  2.20570117e-01 -3.80603313e-01  1.38981926e+00\n   3.32970619e-01  1.51446366e+00  8.04195821e-01 -9.90012646e-01\n   9.18319106e-01  2.43475723e+00 -2.13275805e-01  6.15273833e-01\n  -2.02153042e-01  2.04406127e-01  2.96238333e-01 -7.40466177e-01\n  -6.37449205e-01  4.96386643e-03  1.65538442e+00 -8.77191246e-01\n   1.64510012e-01  7.83195198e-01  2.74633551e+00  2.27403417e-01\n  -1.39682782e+00  5.67473292e-01  8.93571019e-01  3.98953818e-02\n  -3.61378253e-01 -1.21238363e+00 -4.29367125e-01 -9.65596080e-01\n  -1.08270001e+00  2.67720556e+00 -1.34711063e+00 -1.22847402e+00\n   1.98158765e+00 -1.25978395e-01  2.38954759e+00 -1.46082425e+00\n  -1.92859650e+00 -1.80144179e+00  8.15726221e-01  2.40605521e+00\n  -1.94789863e+00 -2.16351777e-01 -4.23483908e-01 -4.56535101e-01\n  -1.91102231e+00 -4.68308061e-01  1.64662346e-01  3.49988192e-01\n  -4.75664228e-01  4.39514399e-01  6.06970251e-01  1.79435885e+00\n   7.64666677e-01  7.81359494e-01  3.11240166e-01  1.24607003e+00\n   4.48989362e-01  6.07911468e-01 -4.10127783e+00 -7.71359028e-03\n  -4.10463989e-01 -2.25796461e-01  7.20489442e-01  3.63182366e-01\n  -2.55450106e+00  2.00498939e+00 -7.56996095e-01  1.43283486e+00\n  -8.23113382e-01 -1.99164212e+00 -2.14447737e+00  1.15791440e-01\n   6.30733967e-01  8.03308070e-01 -1.66820753e+00  5.57009757e-01\n   1.27778161e+00 -3.24456483e-01 -3.16471964e-01 -1.18010616e+00\n  -8.78039002e-01 -5.83049119e-01  1.15429282e+00  6.16524398e-01\n   8.49038482e-01  8.91055286e-01 -3.63003254e-01 -4.73862365e-02\n   1.70616472e+00 -1.03394008e+00  2.13426638e+00 -7.31168455e-03\n   1.13219523e+00 -4.72633392e-01  6.01182520e-01  2.82545662e+00\n   1.89871892e-01  2.22921208e-01  1.24102902e+00 -1.30560291e+00\n   2.65372062e+00  7.79686332e-01  4.23528343e-01  9.74678397e-01\n   1.31473792e+00 -2.56426305e-01  8.81011784e-01 -6.27907217e-01\n   4.77333277e-01  1.61732769e+00 -2.05903268e+00  1.32324958e+00\n  -1.37261033e+00  1.86491835e+00  5.53657115e-01 -3.25349301e-01\n   4.53341424e-01  5.05717397e-01 -4.18729782e-02  1.10603607e+00\n   1.42983317e-01 -1.26444423e+00 -6.19859278e-01 -2.06546497e+00\n   1.35143626e+00  9.03289095e-02 -1.83786273e-01  1.71313298e+00\n   7.78414607e-01 -4.46074605e-02 -2.22779676e-01  2.11630130e+00\n   6.24296129e-01  2.32330489e+00 -8.15443695e-01 -2.42109609e+00\n   1.18675959e+00 -1.58253384e+00  1.71781707e+00  1.16298592e+00\n   9.99259293e-01  3.62345040e-01 -1.46062374e+00 -2.89307535e-01\n   1.68230712e+00  9.55439687e-01 -1.37852415e-01  8.14159751e-01\n  -1.83833227e-01 -4.01134402e-01  6.31703377e-01 -9.34630930e-01\n   1.95851934e+00  1.20031610e-01 -6.98795617e-01 -1.41333032e+00\n  -1.32226944e-02  2.33896065e+00  2.41960263e+00  5.91782153e-01\n  -2.15898246e-01 -7.99262047e-01  8.25916767e-01 -3.85741949e-01\n   1.17234862e+00  1.30308700e+00  1.30968308e+00 -4.74103510e-01\n  -3.94171506e-01 -2.24722549e-01  8.49109218e-02 -1.06936336e+00\n   5.98848045e-01 -5.34167171e-01 -7.43684649e-01  2.17882618e-01\n  -6.44125998e-01 -2.04965639e+00  6.45405233e-01 -3.80676202e-02\n  -6.35350764e-01 -1.70035386e+00 -3.23438138e-01 -4.87739980e-01\n   8.21457922e-01  1.27408309e-02  4.90947336e-01 -3.72561179e-02\n   6.04817510e-01  2.57867551e+00 -9.32641089e-01 -1.06627560e+00\n   5.25760770e-01  2.89072609e+00 -1.35282113e-03 -1.16573882e+00\n  -7.92566001e-01  4.44403648e-01  1.24633157e+00  6.14564776e-01\n  -3.06635946e-01  2.45271653e-01 -7.30806708e-01  3.20697129e-01\n   8.83546472e-02 -2.09732461e+00 -1.25458992e+00 -1.32644445e-01\n   6.06128097e-01  6.44291341e-01 -6.96138322e-01 -9.20849442e-01\n  -1.47819889e+00  1.26592410e+00 -8.00240695e-01  5.02297103e-01\n  -6.99861825e-01 -2.83701923e-02  5.29303491e-01  1.04811251e+00\n  -6.40784562e-01  1.61716056e+00  5.76160789e-01  7.30173469e-01\n   2.02728534e+00 -1.01693131e-01  1.52845633e+00  8.44344914e-01\n  -2.78485894e-01  2.45138478e+00 -6.46786392e-01 -9.98301864e-01\n  -1.72772989e-01 -8.94483209e-01 -7.70563424e-01  7.88020670e-01\n  -6.30508065e-01 -1.42083526e+00  6.16229117e-01 -1.12117946e+00\n   1.17974102e+00  1.26282657e-02  1.13611662e+00  9.64666784e-01\n   4.49151658e-02  8.49876881e-01 -9.38572884e-02  1.44812691e+00\n  -1.09757519e+00  5.36100626e-01 -9.97620523e-01  8.15367401e-01\n   1.35581481e+00  2.59892762e-01  1.05715716e+00 -2.19102359e+00\n  -9.56495702e-01  3.84054959e-01 -1.85791779e+00  7.53380731e-02\n  -1.51195872e+00  7.42161095e-01 -1.85415459e+00 -1.11962903e+00\n   5.09187520e-01 -2.27937832e-01  1.38543153e+00  2.58103460e-01\n   2.17893815e+00  9.37289834e-01  1.33958697e-01  3.06312060e+00\n   2.34319830e+00  7.13493764e-01 -6.65684283e-01 -2.59567499e+00\n   7.02686369e-01  6.35224223e-01 -1.62464690e+00 -1.82979989e+00\n  -5.72001576e-01  1.33413506e+00 -1.25341606e+00  1.70616889e+00\n   3.49876732e-01 -1.92735541e+00 -1.92738295e-01  6.69837654e-01\n  -1.48448145e+00  1.78185120e-01 -3.19739819e-01 -1.12362921e+00\n  -1.38556613e-02  2.28045297e+00 -1.05402432e-01 -9.08302248e-01\n   2.30121183e+00 -2.22544119e-01 -7.04491436e-01  1.53821921e-02\n   3.07977200e-01  8.39967549e-01  2.43453845e-01 -9.25655663e-01\n  -6.18729711e-01  1.09806895e+00  1.34825617e-01  1.38329864e+00\n   1.44825613e+00 -1.73748839e+00 -8.91379237e-01 -2.53759891e-01\n  -8.84822190e-01  1.22641850e+00 -7.22356617e-01 -9.77268338e-01\n  -1.66034877e+00 -2.23628521e-01 -6.57183766e-01 -6.67898595e-01\n   7.53291547e-01  9.73020270e-02 -2.29972690e-01 -3.01632583e-01\n   3.79591465e-01 -1.16698873e+00  6.34426475e-01 -1.21978545e+00\n  -1.26360607e+00  1.10785460e+00 -1.40321922e+00 -8.97844195e-01\n   3.59493208e+00  9.64065269e-02 -2.62053967e-01  7.79035211e-01\n  -1.00674880e+00 -1.49969921e-01  6.16044581e-01 -4.69679028e-01\n  -4.29921001e-01 -5.08674264e-01  1.89886745e-02 -1.36680949e+00\n  -7.32773006e-01  1.64262962e+00  2.31215224e-01 -7.78474271e-01\n  -8.31619561e-01 -5.26902616e-01 -1.97408807e+00 -4.92083043e-01\n  -2.87518501e-01 -2.01481938e+00 -1.18696177e-02  1.41632676e+00\n  -2.76399046e-01  1.22633803e+00 -2.20811677e+00 -1.71852916e-01\n  -2.40204945e-01 -2.73722976e-01 -1.69365668e+00 -7.89866328e-01\n   5.69400012e-01  7.07836688e-01 -7.38305092e-01 -1.40788770e+00\n   1.14599772e-01 -1.25539601e-01 -1.30398297e+00  1.89741504e+00\n  -5.98280840e-02  1.13055959e-01 -1.24620986e+00 -1.08939970e+00\n   1.64007664e-01 -6.06963038e-01 -1.43633294e+00  8.04524720e-01\n  -7.73193389e-02  3.78435403e-01 -1.27029479e+00 -2.30650067e+00\n   1.82835579e+00  1.74432206e+00 -2.63941914e-01  2.19779685e-01\n   6.54697895e-01  1.54357219e+00 -8.41422856e-01 -3.38314801e-01\n  -8.61941695e-01  1.72669756e+00 -7.23663986e-01  6.89550877e-01\n  -5.46922348e-02 -1.90108490e+00  5.51195443e-01 -3.59557867e-01\n   4.56245802e-02 -2.73067564e-01 -7.53502905e-01  1.26340520e+00\n   1.48664761e+00 -2.83552974e-01  1.00711429e+00  7.26466179e-01\n  -1.35431826e+00 -4.03634876e-01 -4.68194276e-01 -2.66823709e-01\n  -9.35583115e-01  1.41524804e+00 -6.80354178e-01 -1.48780644e+00\n   8.57766449e-01 -1.62289536e+00  6.26217902e-01  4.11921948e-01\n  -3.45357418e-01 -8.04822564e-01 -1.68982998e-01 -7.59583056e-01\n  -1.86540172e-01  7.82483101e-01 -1.56435013e+00  5.71275689e-02\n  -1.00727916e+00 -8.98893416e-01 -1.22470379e-01  1.64306056e+00\n   7.13463366e-01 -1.82573712e+00  3.16636622e-01  7.35652804e-01\n   5.55133745e-02  5.22462428e-01  8.23444068e-01 -1.92805743e+00\n   1.38667151e-01 -1.48820496e+00 -7.26372838e-01 -9.74761963e-01\n   1.49034560e+00 -1.74081933e+00  1.01115420e-01  4.25252914e-01\n  -5.49271882e-01  1.26615822e+00  1.86463490e-01 -3.49947870e-01\n  -1.76694945e-01 -8.04786086e-01  3.00122976e-01  9.68589127e-01\n   9.20656204e-01 -1.28522933e+00  2.80506819e-01 -3.74940395e-01\n  -7.41994500e-01  7.31007278e-01  1.19146955e+00  7.00114727e-01\n  -9.37780201e-01  1.18750656e+00  1.61363617e-01  1.96714079e+00\n  -1.66476518e-01 -8.74584243e-02 -3.38113308e-02 -1.94390023e+00\n   1.39225662e+00  2.12335929e-01  4.64440763e-01 -3.47383231e-01\n  -1.35028914e-01 -1.22466195e+00 -8.53434682e-01 -5.99053502e-01\n  -2.18491960e+00 -1.07311726e+00 -8.54079425e-01  5.63666642e-01\n  -1.28845620e+00 -7.06525445e-01 -5.11507511e-01 -5.53030193e-01\n   8.07696223e-01 -1.85504131e+01 -1.98789346e+00  8.14256668e-01\n  -1.03809559e+00 -1.96006978e+00  3.97854000e-01  2.84474669e-03\n  -2.86781996e-01 -1.03682792e-02 -4.18938065e+00  1.69886792e+00\n   6.29418343e-02  1.71341729e+00  1.85885262e+00  1.66521519e-01\n   6.94593713e-02 -6.26951516e-01  1.34360814e+00 -2.28482157e-01\n   2.12990016e-01 -1.48049963e+00 -5.50570190e-01  3.68676186e-02\n  -7.37316430e-01  1.11194730e+00  8.33213508e-01 -2.34362677e-01\n  -5.10642469e-01  1.64843237e+00 -2.88151335e-02 -1.40522385e+00\n   3.54718596e-01  2.48331022e+00  2.10284233e+00  2.60145450e+00\n   6.89739585e-01  1.82574975e+00  1.80064595e+00 -7.52815247e-01\n  -4.76072490e-01 -1.01431501e+00  1.07091272e+00  3.73223960e-01\n  -1.21292484e+00  6.28069878e-01  7.09487140e-01  1.20540905e+00\n  -7.13153958e-01  1.64164639e+00 -3.32893103e-01 -2.85899162e-01\n   1.95297086e+00  2.31583327e-01 -2.45895243e+00  4.98111218e-01\n  -1.07980895e+00 -2.44956642e-01 -1.86946595e+00 -1.79222238e+00\n  -8.57125759e-01  5.12097180e-01 -4.00954664e-01 -1.22799382e-01\n  -3.25556546e-01 -5.05874932e-01  8.30319107e-01 -1.90951955e-02\n  -2.65430379e+00  1.18642259e+00 -1.02984595e+00 -6.63148940e-01\n  -9.50098038e-01  5.91726542e+00 -8.02513421e-01 -1.88913018e-01\n  -1.26241589e+00  2.29124099e-01 -4.11618680e-01 -6.14337921e-02\n  -1.46406567e+00 -1.33382618e+00 -2.34445170e-01 -8.13009143e-01\n   4.97884482e-01  9.88147080e-01 -4.82762814e-01  1.00313485e+00\n  -9.48562324e-01  2.30469584e+00 -2.11133146e+00  2.45239043e+00\n  -9.29909289e-01 -7.24834859e-01 -3.09766501e-01  6.19601548e-01\n  -1.23705423e+00  8.00810516e-01  8.68503973e-02  7.45103955e-01\n  -9.85425949e-01  1.17598188e+00  2.73899257e-01 -3.71491742e+00\n  -1.16986406e+00 -3.85407615e+00 -1.57650188e-01  5.42031944e-01\n   4.51617032e-01 -1.47071171e+00 -1.15627503e+00  4.62679237e-01\n  -2.35068217e-01  8.01277220e-01  7.41047204e-01 -1.31575334e+00\n   9.00830448e-01  9.48744714e-01 -2.01231837e+00 -9.10116136e-01\n   2.22422266e+00  2.09594607e+00 -5.70887804e-01 -4.23271060e-02\n   8.56892765e-01  7.51200795e-01  4.93548453e-01  3.84526163e-01\n   3.35324734e-01 -9.85643327e-01 -1.32722771e+00 -4.29583549e-01\n   4.46223944e-01 -3.58274549e-01  3.33394408e-02 -7.31852710e-01\n  -6.79813564e-01 -9.96930957e-01 -2.26751700e-01  2.39387512e+00\n  -1.95743274e-02  2.33462110e-01  9.88937378e-01 -4.51822251e-01\n   2.33209237e-01 -3.53615470e-02 -1.49265301e+00  7.23129332e-01\n  -1.55547297e+00 -3.02493006e-01  2.39240527e+00 -3.17581594e-01\n   7.70485044e-01 -1.33941817e+00 -3.41826141e-01 -2.98636228e-01\n   1.97110787e-01 -2.35805655e+00  1.98863733e+00  9.45369527e-02\n   1.59697282e+00  9.09143925e-01 -2.29667449e+00  1.22343957e-01\n  -1.04448116e+00  1.18200779e-01 -1.79154500e-01 -1.04649436e+00\n  -4.41568308e-02  2.40429878e+00 -1.29977059e+00  1.91718328e+00\n   7.35756934e-01 -9.69766021e-01 -3.74336243e-01 -4.18539017e-01\n  -2.69711232e+00 -5.28813171e+00 -7.83756912e-01  1.56330287e+00\n  -1.61001956e+00 -2.79211253e-01  3.63316089e-01  1.26541722e+00\n   1.94725215e+00  5.69297411e-02 -5.12199521e-01 -1.00004053e+00\n  -3.15000623e-01 -2.52818018e-01 -1.14642274e+00 -1.86121583e+00\n  -1.89411044e+00 -3.01977611e+00  4.06227529e-01 -1.43005919e+00\n   1.30751061e+00 -1.34639204e+00  9.26402926e-01 -7.86074758e-01\n   4.87841189e-01 -1.48116469e+00  3.36806439e-02 -6.78445697e-01\n   4.41613734e-01 -9.34089124e-01 -6.48061633e-01 -3.53836060e-01\n  -1.36169624e+00 -5.88378549e-01  5.19999504e-01  1.37116241e+00\n   2.26690984e+00 -3.49460333e-03 -1.28333896e-01  8.11683178e-01\n  -2.27172828e+00 -2.28709388e+00 -1.14844716e+00 -7.10002482e-01\n  -6.48313189e+00  6.71364248e-01  7.70019054e-01 -1.44868106e-01\n  -2.18196869e+00  1.15541494e+00 -2.99432516e-01  2.67939061e-01\n   5.22533655e-01 -1.16099739e+00 -1.95895553e+00  7.22448766e-01\n  -2.29695484e-01 -3.34874570e-01  1.02297616e+00  1.04907572e+00\n  -5.48369586e-01  9.43514287e-01  2.02314049e-01  8.29451144e-01\n  -9.73086298e-01  1.16284823e+00 -5.71207166e-01 -4.18382645e-01\n   1.65511239e+00  6.60645664e-01  1.71949327e+00 -6.86962605e-01\n  -1.39502335e+00  5.45436084e-01  2.42956400e-01  5.73491621e+00\n  -1.25249028e-01  5.59352696e-01  7.24139273e-01  1.21267483e-01\n  -4.19633806e-01 -1.07962632e+00 -6.61881983e-01 -6.59182444e-02\n  -2.02385640e+00  4.25954074e-01  7.78043941e-02 -4.34186250e-01\n   1.29895997e+00 -4.34041321e-01 -3.58989507e-01 -3.88834685e-01\n   8.37529302e-01  6.66616380e-01  2.41446042e+00  2.69885570e-01\n  -2.74993449e-01  1.18065143e+00 -5.87767661e-01 -2.95971125e-01\n   1.97994187e-01  8.35814953e-01 -1.08673501e+00  2.24075651e+00\n  -6.61241829e-01  9.95193198e-02  1.75471556e+00  3.09996545e-01\n   5.63941526e+00  9.41362977e-01  2.16551438e-01  2.16805600e-02\n   1.78642488e+00 -1.26332080e+00 -2.39939666e+00 -6.29585445e-01\n  -3.19584221e-01  5.56330264e-01  2.61770070e-01 -1.05403078e+00\n  -3.28736246e-01  6.26568139e-01  2.98064399e+00 -6.52394444e-02\n  -7.04655826e-01 -2.42777419e+00  1.31909180e+00  4.83268410e-01\n  -2.07965925e-01  1.18542325e+00  1.83932221e+00  8.20834935e-01\n   7.51499116e-01 -6.42965436e-01 -3.53490971e-02  4.83893782e-01\n  -1.87487304e+00  1.98254716e+00  8.55146945e-01 -2.36687828e-02\n  -1.64625192e+00 -1.38305831e+00 -1.98848426e+00 -7.63768796e-03\n  -5.56156456e-01  3.54478694e-02  4.37902398e-02  5.42154871e-02\n  -4.79932576e-01  5.15315115e-01  5.41801929e-01  4.40709114e-01\n  -6.65848553e-01 -2.44662538e-01  7.43405282e-01 -5.24225175e-01\n  -1.73241884e-01  1.35621452e+00 -6.98532760e-01  1.95866570e-01\n   8.41315567e-01  2.24507976e+00 -7.63926387e-01 -2.84514809e+00\n   3.49534094e-01  9.56790268e-01 -1.15195656e+00  1.56985790e-01\n  -2.92220664e+00 -5.60934283e-02  6.10301308e-02  3.85548085e-01\n   1.89506322e-01 -5.88994026e-01  5.39557099e-01 -1.71409059e+00\n   1.55513704e+00  5.79807937e-01  4.07307565e-01 -1.73403114e-01\n   8.14534009e-01 -8.95739257e-01  1.08615541e+00  1.28296778e-01\n   4.20253247e-01  1.57335103e+00 -3.81411821e-01  4.19754356e-01\n   8.15728188e-01 -6.49706841e-01  6.09306037e-01  8.02706540e-01\n   3.15921754e-01  5.31118810e-01  2.04966828e-01  1.47752777e-01\n   7.20788121e-01  1.52315414e+00  7.94512331e-01  4.06778336e-01\n   6.17747426e-01  1.20013736e-01 -3.25712144e-01 -7.33639777e-01\n  -9.66343880e-01  1.15257633e+00 -1.68040887e-01 -1.15447678e-01\n   1.61672747e+00  3.00616908e+00  1.60425580e+00  5.08427739e-01\n  -9.14217949e-01 -1.02261603e-01  8.26985717e-01  4.02704664e-02\n   9.38996315e-01 -9.36229587e-01  1.33181050e-01 -9.43073213e-01\n   5.27922094e-01  1.23178698e-01 -3.33696127e-01 -5.86421825e-02\n   6.09554946e-01 -3.74004573e-01 -6.57958806e-01  1.94649413e-01\n   6.36120200e-01 -7.84613609e-01  1.90481305e-01  4.22406912e+00\n  -3.16725761e-01 -8.37896705e-01 -5.68330646e-01  2.21338958e-01\n  -1.97100234e+00 -4.02519256e-01 -8.61815810e-01 -6.07103646e-01\n   1.59505635e-01  9.18219149e-01 -4.19419438e-01 -6.37162209e-01\n   3.92103463e-01 -1.48624671e+00  5.45401275e-02  6.58573985e-01\n   8.70757282e-01  7.08460033e-01  2.62068778e-01 -1.24622941e+00\n  -1.47587454e+00  7.43294597e-01 -1.14984667e+00 -6.65883660e-01\n   7.43169963e-01  1.26133430e+00  1.81547120e-01 -3.89204681e-01\n   1.67670929e+00 -1.65438801e-01 -1.22076833e+00 -6.89468324e-01\n   1.10110974e+00  6.71594143e-01  4.09929663e-01 -2.00560284e+00\n   1.31676853e+00  2.05365419e+00 -1.51164636e-01  6.39880300e-01\n  -4.76643950e-01  4.64309603e-01 -3.83026809e-01  4.72168982e-01\n   9.66942132e-01  2.11718702e+00  1.03356743e+00  1.47958410e+00\n   4.64157879e-01 -1.20000458e+00 -8.49606335e-01 -6.93875909e-01\n   7.72931516e-01 -1.37816876e-01 -1.27071083e+00 -2.20958725e-01\n  -2.88997263e-01  3.91634643e-01  1.97995499e-01  9.76447701e-01\n   6.44950986e-01 -9.62400973e-01 -1.87338722e+00 -2.52773595e+00\n  -2.08854699e+00  2.89439291e-01  1.54169333e+00  3.18456858e-01\n   5.30834317e-01  9.52460825e-01 -5.66288948e-01  8.11016262e-01\n   6.83884740e-01  5.56698382e-01  5.30442178e-01 -2.37690496e+00\n  -6.97087169e-01 -7.39969790e-01 -1.26780486e+00 -7.52798378e-01\n  -2.22870731e+00  5.77386439e-01  3.25236082e-01 -2.53364593e-01\n   1.76575649e+00 -1.25154185e+00  9.62399542e-01 -5.08114457e-01\n   1.86943161e+00  5.37180603e-01 -6.66097626e-02  1.03395534e+00\n   2.33231950e+00  4.20208752e-01 -7.45818138e-01 -3.68016094e-01\n  -5.00407577e-01 -2.23237848e+00 -4.55552042e-01  2.76072264e+00\n   3.78825951e+00  1.58573568e+00  1.59482849e+00 -1.33588731e+00\n  -6.44510835e-02 -9.84573364e-01  1.12381721e+00  9.07570302e-01\n   8.40150356e-01 -4.88996416e-01  1.82786441e+00 -6.07116580e-01\n  -1.64585188e-01 -1.17282569e+00 -7.63103068e-01 -5.91020525e-01\n  -7.27636933e-01  1.68722376e-01 -7.35697210e-01 -3.32104638e-02\n  -1.84122527e+00  1.00794658e-01  4.80850548e-01 -7.87716985e-01\n   7.07820058e-01  9.23726022e-01  3.69622707e-01  4.32283074e-01\n  -1.88944948e+00 -1.67331800e-01 -9.11474168e-01  8.13024163e-01\n  -1.12791371e+00 -1.79935694e-01  7.03023851e-01 -6.39065087e-01\n  -4.71922457e-01 -1.39233875e+00  5.29075444e-01  2.41775066e-01\n  -2.37804294e+00  4.32463497e-01  6.01469815e-01  6.45383596e-02\n  -1.85691461e-01 -2.33104855e-01 -2.67960340e-01 -7.24814773e-01\n   5.88335693e-01 -2.32019927e-02  1.23656285e+00 -8.01185220e-02\n  -2.98076242e-01 -1.08926940e+00  9.03397977e-01 -1.63560367e+00\n   1.12254691e+00 -5.26002288e-01 -5.20256341e-01 -6.41624808e-01\n   3.62638861e-01  2.03973264e-01  5.24267554e-01 -1.23464847e+00\n  -7.95001209e-01 -3.80531639e-01  1.83706880e+00 -2.83454388e-01\n  -9.90651250e-01  1.28085685e+00 -3.68329138e-01  1.79900920e+00\n   5.41623592e-01  1.01961350e+00 -3.16065937e-01 -4.96555179e-01\n   1.13622260e+00 -9.08968508e-01  9.27931815e-02 -1.08637166e+00\n  -2.54603195e+00 -8.60940933e-01 -7.65070915e-01 -6.02688372e-01\n  -1.11689246e+00  2.91755032e-02 -4.30339485e-01  1.48699403e+00\n  -9.30784822e-01  8.02343786e-01 -2.14437351e-01  2.61647254e-01\n  -1.53174996e-01  1.16179788e+00  1.30755054e-02  1.73490718e-01\n   2.45534167e-01  1.23828053e+00 -1.27264529e-01 -9.64888334e-02\n  -1.29340160e+00 -8.52490544e-01 -8.63391519e-01  9.89340484e-01\n  -1.34440625e+00  1.52087748e+00  4.90691453e-01  2.10997555e-02\n  -5.03818572e-01  1.50540388e+00 -5.61870754e-01  7.90880620e-01\n  -7.45803535e-01 -3.89305919e-01 -9.48228955e-01  6.10942841e-02\n  -1.71643496e-01 -1.39355409e+00 -5.37448704e-01  1.07557610e-01\n  -5.81106663e-01 -3.69245023e-01  1.83320105e+00  1.10924888e+00\n   1.01099694e+00  6.81483269e-01  1.09737313e+00  1.31075990e+00\n   8.03261936e-01  7.81195760e-01  1.17460215e+00 -4.89633948e-01\n   7.58567452e-01 -1.22045211e-01 -1.15659513e-01  4.87150043e-01\n  -9.48475361e-01  2.31087476e-01 -8.41258049e-01 -3.68195623e-01\n  -1.72295213e+00  9.45657611e-01  3.22063714e-01 -1.01239812e+00\n   3.60824436e-01 -2.26901144e-01  7.53936112e-01  1.17985821e+00\n   1.05805349e+00 -3.50379854e-01 -2.10850745e-01  6.43390357e-01\n   6.20997846e-01  1.33765197e+00  1.34931540e+00  2.28347254e+00\n  -1.31846875e-01  6.04553223e-01 -2.04685070e-02 -1.16929662e+00\n  -1.47994959e+00 -1.44160151e+00 -2.09240270e+00 -2.53264785e+00\n   3.54816854e-01 -1.08900642e+00 -4.36903983e-01  6.98390126e-01\n   1.61862755e+00  1.05654740e+00 -1.52583467e-02 -8.46922398e-02\n   1.71336854e+00  8.10270786e-01 -7.91006088e-01 -1.05320430e+00\n   4.79518682e-01  5.33164561e-01  8.50970577e-03  1.58120975e-01\n   4.09231514e-01 -7.90588856e-01 -5.62732995e-01 -1.55185625e-01\n   2.95073450e-01 -2.00108957e+00 -1.81587327e+00 -2.02457809e+00\n  -2.77189583e-01  2.52956927e-01  2.35155644e-03  2.10842419e+00\n  -4.95604038e-01 -3.17004263e-01 -3.56791735e-01  6.83469236e-01\n  -1.93103686e-01  9.73781586e-01  7.58811533e-01 -1.20386446e+00\n   9.57121730e-01  9.32135224e-01 -1.63161552e+00 -1.05324233e+00\n   1.47478950e+00 -9.16573822e-01  4.05188233e-01  4.25869524e-01\n   9.72509265e-01  1.85909256e-01 -5.48522174e-01 -1.21449418e-01\n  -1.56550407e+00  1.16956031e+00  6.43371463e-01 -1.66329682e+00\n   5.59038579e-01  2.17702603e+00  2.80687642e+00  6.97548568e-01\n  -5.15945137e-01  1.16365604e-01  9.40991282e-01  1.41941988e+00\n   4.72675383e-01  1.59462869e+00 -7.64839709e-01 -6.76330864e-01\n   1.57324910e+00 -6.38916790e-01 -1.20009792e+00  1.96473229e+00\n   9.95676458e-01  6.17974281e-01  5.63483858e+00  1.22119136e-01\n   1.03324854e+00  1.44082576e-01  2.58030391e+00 -1.10962026e-01\n  -6.42725110e-01  5.20529933e-02  1.10622621e+00 -2.45689893e+00\n   1.01762843e+00  1.48184136e-01 -6.96557581e-01  1.11088622e+00\n   2.32039309e+00 -1.05031095e-01 -2.95920944e+00 -1.89562333e+00\n   4.99318331e-01  5.08156300e-01  4.04953480e-01  6.99697316e-01\n  -1.14305401e+00 -4.51498985e-01  1.33862746e+00 -1.76947725e+00\n   2.69497573e-01  4.22700137e-01  1.06381071e+00 -4.66748774e-01\n  -5.47117889e-01 -5.39966643e-01 -5.26015341e-01 -1.30723014e-01\n   5.13173401e-01 -5.13806224e-01 -2.99068302e-01  2.85329014e-01\n   1.28747809e+00  5.58079302e-01 -5.72672725e-01  1.84503448e+00\n   9.04890716e-01  1.75178990e-01 -2.03103161e+00  3.65845650e-01\n  -4.56832260e-01 -6.08592629e-02  3.53155434e-01  1.13696575e+00\n  -7.36787617e-01 -6.07556403e-02 -1.70078874e+00 -7.04555988e-01\n  -1.21174419e+00  1.42239660e-01 -1.96135545e+00 -1.26876342e+00\n   4.09418434e-01  1.19659412e+00 -3.97268206e-01  8.05418134e-01\n  -2.98359692e-01 -1.21200478e+00  2.90908241e+00  3.26708168e-01\n  -1.01838693e-01  4.20259804e-01 -5.64449728e-01 -1.77188993e+00\n   1.76465869e-01 -4.01978821e-01  8.91593874e-01 -1.66884482e+00\n  -7.20883310e-01  3.19153786e-01 -3.01160425e-01 -3.44761699e-01\n  -1.43439680e-01  1.55931979e-01  2.93802953e+00 -9.18580815e-02\n  -6.16006196e-01 -6.15580499e-01 -1.06338394e+00 -3.05983281e+00\n   1.64131916e+00 -1.86050284e+00 -6.79652214e-01 -6.04926050e-01\n   2.49785018e+00  4.37640876e-01  1.17505956e+00 -8.02511632e-01\n   3.56062382e-01 -1.52093089e+00 -2.39132738e+00  9.56531584e-01\n   4.96675819e-01  2.96536064e+00  1.06567159e-01 -1.79026619e-01\n  -5.86135030e-01  7.81043172e-01 -2.41846156e+00  3.05661112e-01\n  -5.59670150e-01  1.72367799e+00  1.69008017e-01 -4.48147953e-01\n  -2.97123194e-01 -1.79665421e-05 -6.22817636e-01  5.72084010e-01\n  -4.94398594e-01 -1.06737578e+00 -3.02983344e-01 -1.43399370e+00\n  -1.39710099e-01  8.20431411e-01 -5.88534415e-01  3.59405845e-01\n  -1.88339964e-01 -6.07501194e-02  1.74184251e+00 -4.76064265e-01\n  -2.68409348e+00 -2.05271411e+00 -6.16914630e-01  9.23388600e-01\n  -2.62199133e-03 -4.17187750e-01 -1.70707971e-01 -9.06405270e-01\n   5.79344630e-01  1.49800196e-01  1.34431481e+00 -1.32209754e+00\n   2.40051508e+00 -2.77159512e-01 -2.21100903e+00 -4.00632888e-01\n   1.13829422e+00  2.37484902e-01  1.80620682e+00  5.82957387e-01\n  -9.01050627e-01 -2.16606766e-01 -5.09866059e-01 -1.09884465e+00\n  -5.88231757e-02 -1.43555558e+00  7.62948334e-01 -3.55339795e-01\n   5.49319923e-01 -8.89976859e-01  3.21138203e-01 -1.13632178e+00\n  -4.90272522e-01 -2.34326911e+00  6.89062953e-01 -2.49723649e+00\n  -1.27594543e+00  6.07135653e-01 -5.81236184e-01 -4.94414806e-01\n   2.33966827e+00  3.05495530e-01  8.17480460e-02  2.68860996e-01\n  -7.23675340e-02 -5.83751261e-01 -3.48667294e-01  1.34956837e+00\n  -2.91571081e-01  1.25229084e+00  3.80000859e-01 -6.72480166e-01\n   5.56090057e-01  2.99438298e-01 -1.57008493e+00  6.21388435e-01\n   5.99173605e-01 -1.16527295e+00 -1.25300217e+00  5.48582077e-01\n  -4.48912907e+00 -1.61390471e+00  2.95904368e-01  3.10843110e+00\n   4.46938366e-01 -1.47372520e+00  1.62320826e-02  2.72801423e+00\n   7.83732068e-03 -2.89112419e-01 -7.65744209e-01  6.14543617e-01\n   1.66027391e+00  1.16780734e+00  1.27688020e-01 -8.79613221e-01\n   2.39089465e+00 -7.99323738e-01 -9.72190917e-01  2.57616663e+00\n   3.79602015e-01  1.49348199e+00  4.20656830e-01  1.11116278e+00\n   7.59119391e-01  6.73068821e-01 -5.81131518e-01 -2.04654168e-02\n  -1.95841528e-02  3.95775050e-01 -1.05469108e-01 -8.37917686e-01\n   1.43398952e+00  7.08620191e-01  2.94867188e-01 -1.63566673e+00\n   1.38563919e+00 -2.29691237e-01  1.66075543e-01  8.49393189e-01\n  -6.66533172e-01 -8.40772212e-01 -5.23778737e-01  2.68198941e-02\n   2.01237297e+00 -1.58322847e+00 -1.06805511e-01 -6.27918363e-01\n  -4.47014570e-02  4.86819409e-02 -1.67130527e+01  1.38168538e+00\n   3.36696893e-01 -5.57298183e-01 -1.62845775e-01  3.34499270e-01\n  -2.37048721e+00 -1.51300919e+00 -5.39098263e-01 -6.18233800e-01\n   2.56093574e+00  1.09702456e+00 -1.28655875e+00  3.14391136e+00\n   6.61590278e-01  1.42267382e+00 -8.83522451e-01 -2\n\n*** WARNING: max output size exceeded, skipping output. ***\n\n3  3.52968514e-01 -1.00155294e+00 -6.42894685e-01\n  -2.00460148e+00 -5.32093585e-01  4.09770727e+00  1.52305579e+00\n  -1.73851654e-01  4.72323209e-01 -5.77420890e-01 -3.52399111e-01\n  -2.00880361e+00  1.82848111e-01 -7.23953128e-01  3.62256795e-01\n  -2.49590874e-02 -1.75365116e-02  8.10136914e-01  4.25849289e-01\n  -2.56909823e+00 -3.33873928e-01  3.07289660e-01 -3.39095801e-01\n  -2.75716996e+00  9.68512237e-01 -5.28508909e-02 -2.81469154e+00\n   1.00739694e+00  1.74349084e-01 -1.36235845e+00 -4.42272425e-01\n  -2.95456797e-02 -1.47926116e+00  2.29674840e+00 -3.25909078e-01\n  -3.43043804e-01 -6.94650769e-01  5.35594642e-01 -3.05586964e-01\n   2.88346678e-01 -6.16272271e-01 -2.56314486e-01 -2.16196513e+00\n  -4.75392044e-01 -9.74310219e-01 -5.66378497e-02 -7.80562580e-01\n  -4.86118108e-01  4.32623595e-01  1.56843722e+00 -6.84908867e-01\n  -5.98717667e-02  2.37866068e+00 -4.83731776e-01  1.71391463e+00\n   2.68042231e+00  5.66368222e-01 -5.64342797e-01 -5.12107313e-01\n   8.02838027e-01  3.47689897e-01  5.37677884e-01 -8.64586651e-01\n  -3.05225372e+00 -2.72155553e-01  2.73683995e-01 -3.61488611e-01\n  -9.40273821e-01  9.88821626e-01 -1.21478117e+00  8.65448117e-01\n  -1.91101098e+00  1.91933703e+00  1.11709607e+00  6.93116605e-01\n  -7.01679289e-01 -1.27521321e-01  1.71160206e-01  1.48603356e+00\n  -1.16461432e+00  2.21235037e+00  1.03396833e-01  1.10589024e-02\n  -7.52600253e-01  1.02778316e+00 -3.31170768e-01  4.86586183e-01\n  -3.13257551e+00 -1.35171711e-02  1.13232508e-01  1.60460484e+00\n   3.75489265e-01  2.24965477e+00 -3.83362502e-01  2.32517695e+00\n  -6.14555717e-01 -6.24686360e-01 -6.40354633e-01  7.42389500e-01\n  -1.60252023e+00 -2.24005675e+00  2.62567669e-01 -3.30245703e-01\n  -1.22023010e+00  8.25222850e-01  2.09250093e+00  8.85156631e-01\n   1.12208259e+00 -4.60576087e-01  8.86048913e-01  2.88030684e-01\n  -1.36195529e+00  4.88564335e-02 -1.12467393e-01  1.30309537e-01\n  -3.47712785e-01  2.24299625e-01 -1.26144338e+00  9.87976909e-01\n  -2.24270955e-01 -1.00686708e-02 -6.79495156e-01  6.36581302e-01\n  -2.51454997e+00  2.54509617e-02  7.22801089e-01  5.01212716e-01\n  -1.31704581e+00 -1.34419277e-01 -3.96917969e-01  6.57844663e-01\n  -1.22785019e-02 -2.24158913e-01  2.65232503e-01  8.68650317e-01\n  -1.48229921e+00  6.31743014e-01 -1.16625583e+00  1.60211131e-01\n  -1.20706749e+00  1.38306403e+00  1.49792564e+00  1.78455341e+00\n  -5.44297457e-01 -1.16038072e+00 -1.74330640e+00 -2.48327756e+00\n  -9.02125299e-01 -1.31013513e+00  1.10586536e+00  6.37735009e-01\n   9.36457157e-01  4.86911535e-01  9.90227878e-01  4.88324493e-01\n   5.09034574e-01 -5.29650509e-01  1.34153390e+00 -9.31225121e-01\n  -7.57110566e-02 -4.24476117e-01 -6.45098031e-01  3.60090733e-01\n   2.17952609e-01 -8.71335149e-01 -9.54643786e-01 -1.71222854e+00\n  -1.47782719e+00 -8.48538458e-01 -1.54483449e+00 -5.82376540e-01\n  -1.63500875e-01 -2.66279280e-01 -3.17350060e-01  1.21395242e+00\n   5.75169861e-01 -1.51574269e-01  2.51689225e-01  1.29894042e+00\n   1.14447868e+00 -2.77927011e-01  3.70731384e-01  5.16880393e-01\n  -1.09704852e+00 -1.17203392e-01  3.39081496e-01 -1.78917754e+00\n  -1.68710485e-01 -3.89446259e-01 -2.90891320e-01  2.83416295e+00\n  -1.44953454e+00 -2.67634720e-01 -1.55090976e+00 -9.13616836e-01\n  -4.34259698e-02 -1.04508531e+00  4.09157962e-01 -4.76315767e-01\n  -3.83526944e-02  2.21059990e+00  2.20318484e+00  9.64680552e-01\n   6.40971541e-01 -2.19386443e-01  9.15499568e-01  1.78415561e+00\n  -1.17246501e-01  7.72805333e-01 -1.03757036e+00  2.69331515e-01\n   1.85183251e+00 -5.84573559e-02 -4.16369230e-01  2.14145160e+00\n  -4.88824606e-01 -9.98233438e-01 -8.84721375e+00 -1.05135031e-01\n   2.16569519e+00  1.18548524e+00  3.75107932e+00 -2.77584761e-01\n  -1.22177494e+00 -2.28818089e-01 -6.14667773e-01 -6.15201712e+00\n  -9.42912772e-02 -2.66214907e-01 -3.47610736e+00 -1.57674357e-01\n   1.69631398e+00  5.83311200e-01 -1.23468137e+00 -1.76971591e+00\n  -1.87041119e-01 -6.70761526e-01  5.44242024e-01  1.75940812e+00\n  -7.91257501e-01 -3.25623083e+00  1.65380180e+00 -9.20699954e-01\n  -2.88628608e-01  1.97549507e-01 -1.89860925e-01 -5.88680148e-01\n   1.97042868e-01  1.08583733e-01  2.43984252e-01 -3.02297533e-01\n   1.91937125e+00 -6.05894208e-01 -5.07696271e-01  1.68763769e+00\n  -1.61111265e-01 -5.19516528e-01  4.92841341e-02  5.74893534e-01\n   8.59630704e-01  9.90636706e-01 -3.98079455e-01  1.75925419e-01\n  -5.07777631e-01  1.48412061e+00 -3.26447099e-01  1.35634112e+00\n   4.65573967e-01 -3.17510180e-02 -7.80961692e-01 -1.06215096e+00\n   1.75495708e+00  6.74104154e-01 -2.25779223e+00 -6.92736626e-01\n  -3.37987006e-01  6.83449864e-01 -4.49095190e-01  2.07253724e-01\n  -9.99181628e-01 -8.31075072e-01  4.57407904e+00 -1.05126679e+00\n   3.63883406e-01 -3.54896218e-01 -6.80053294e-01 -2.02043724e+00\n  -7.61278212e-01  4.43486243e-01  1.97003946e-01 -1.04562199e+00\n   2.01529637e-01  9.90892529e-01 -1.68968931e-01  5.35508513e-01\n   8.20558667e-01 -1.26246047e+00  2.07974768e+00 -1.78314611e-01\n   3.02608013e-02 -1.46005416e+00  1.97394386e-01 -1.72569311e+00\n   3.62072647e-01  8.56929347e-02 -5.72814524e-01  2.00019765e+00\n   6.24567032e-01  1.26059067e+00  2.40563154e+00  2.13680133e-01\n  -7.38781869e-01  2.85383642e-01 -2.71074224e+00  6.02169514e-01\n   4.43004370e-01  2.53352547e+00  9.81291592e-01 -3.51368487e-01\n  -8.69450033e-01  1.19827688e+00 -2.67476153e+00 -6.20405853e-01\n  -1.40770531e+00  2.15590388e-01  4.96309727e-01 -3.41978967e-01\n  -2.30220109e-01  5.17049909e-01 -1.42070162e+00 -2.47910276e-01\n   6.09111786e-01 -1.82610261e+00  1.22814380e-01 -1.21222746e+00\n  -9.30038560e-03  2.26974726e-01 -1.04789412e+00  2.96096623e-01\n  -1.74129643e-02  6.13548933e-03  3.55264926e+00 -2.49508643e+00\n  -1.13670099e+00 -8.21856856e-01 -1.51264265e-01  2.06693435e+00\n   1.30084336e+00 -1.35470283e+00  5.67444377e-02  2.75038451e-01\n   4.89914417e-01  4.47630972e-01  1.26427054e+00 -1.91573358e+00\n   2.21767044e+00 -3.00784618e-01 -3.30039501e-01  2.96628058e-01\n  -4.62103754e-01 -1.08500803e+00  4.34316111e+00  5.97002089e-01\n  -1.16179502e+00  2.47249871e-01 -3.95510465e-01  9.76151109e-01\n   1.47486120e-01  2.98980862e-01 -7.97267616e-01  3.91721308e-01\n   3.77807081e-01 -8.60736012e-01  1.48681664e+00 -1.01955783e+00\n   5.44817150e-01 -6.80695248e+00 -2.44088158e-01 -1.04823852e+00\n   2.80841768e-01  5.65833211e-01 -3.97118665e-02 -5.82619548e-01\n   1.37845194e-02  1.65420210e+00  6.35818362e-01  1.09678018e+00\n   1.26663614e-02 -1.16857910e+00  2.33571723e-01  1.66187227e+00\n   1.68157792e+00  6.02388382e-01  1.55990019e-01 -7.52804339e-01\n   1.10160375e+00  1.31860375e+00  3.09889466e-01 -4.20336694e-01\n   1.04201782e+00  2.36780383e-02 -9.49990749e-03  5.26899219e-01\n  -5.11302328e+00 -5.08583367e-01 -1.00064588e+00  4.23403454e+00\n  -1.87185454e+00 -8.22958052e-01 -8.71108234e-01  1.17112935e+00\n   2.54498214e-01 -5.02291143e-01  4.79887277e-01 -1.45511642e-01\n   1.70375991e+00 -2.12097064e-01 -1.26947328e-01 -6.23512924e-01\n   1.78319240e+00  1.03695047e+00 -5.46763718e-01  1.60599840e+00\n  -5.95851362e-01  1.38056958e+00  1.59798354e-01 -1.63434255e+00\n   1.28687561e+00  1.23967087e+00 -2.10366368e+00 -1.65884331e-01\n  -4.30293024e-01  6.92297399e-01 -7.56314337e-01 -1.45729125e+00\n   8.19754541e-01  1.17286229e+00  5.85491545e-02 -1.98750877e+00\n   5.66581845e-01  6.31029248e-01 -3.88738126e-01  6.61996365e-01\n  -9.74053025e-01 -2.32236788e-01  1.63915801e+00 -1.67795658e-01\n   5.29311359e-01 -3.78765672e-01  1.21847975e+00 -9.95351255e-01\n   1.10797584e+00  3.07599455e-01 -1.27598276e+01  1.16592693e+00\n   8.53012502e-01 -4.66861963e-01  7.64634967e-01  3.87137562e-01\n  -7.00809836e-01 -8.66597176e-01  3.70381862e-01  1.19259429e+00\n   2.01655960e+00  1.81120181e+00  6.79426312e-01  1.68912399e+00\n  -4.64240342e-01 -7.28021041e-02 -4.79477495e-01 -5.43109536e-01\n  -4.81084913e-01 -1.52922738e+00  4.82887954e-01  5.33925354e-01\n  -1.18577981e+00  1.31962180e-01 -5.92598498e-01  2.56535083e-01\n  -1.28595233e+00  1.67527974e+00  8.73532116e-01  7.76947558e-01\n   8.30321252e-01 -8.27802837e-01  5.18487990e-01  1.27557683e+00\n   1.09221041e+00 -1.44683945e+00 -6.66468561e-01 -2.80958176e-01\n  -1.76170066e-01  1.26864445e+00 -4.98266280e-01  9.94957566e-01\n   1.09289205e-02  1.74068391e+00  8.87812495e-01  7.91592538e-01\n   1.29211807e+00  8.46082628e-01  1.08832109e+00 -1.03292811e+00\n   1.07726884e+00 -1.34224069e+00  1.44851297e-01  1.00106204e+00\n   8.83801937e-01  1.82641283e-01  1.49501812e+00 -1.45375216e+00\n   5.71543813e-01  1.28407443e+00 -1.28986344e-01  9.38844144e-01\n  -5.80694079e-01 -7.09112108e-01 -1.12841618e+00 -1.68265522e+00\n  -1.42859566e+00 -1.04725279e-01  1.81456399e+00 -8.15388739e-01\n   1.61035523e-01  1.53884602e+00  1.51830703e-01  4.78430316e-02\n  -1.36233234e+00 -6.35579467e-01  2.90527749e+00 -2.35836715e-01\n  -4.18861434e-02 -1.49150932e+00  3.25455159e-01  1.32025790e+00\n   3.59825492e-02  9.09837723e-01  9.84109402e-01 -3.54741782e-01\n   5.53173959e-01  5.29918015e-01 -1.13235556e-01 -8.39608788e-01\n   3.37926298e-01  3.73748630e-01  1.10377526e+00  4.43375915e-01\n  -1.36035597e+00 -2.07599640e+00  1.73289871e+00  1.21440506e+00\n  -1.41738415e+00  1.68376791e+00 -8.68727326e-01  4.99072343e-01\n   3.37814726e-02  2.89893806e-01 -3.35143507e-01  5.25279701e-01\n  -9.37932357e-02  1.56850851e+00 -2.24232841e+00 -7.40520537e-01\n  -3.19617033e-01  4.17271107e-01 -2.66497803e+00  6.12913489e-01\n  -2.59328425e-01  6.29369557e-01  2.81504333e-01 -2.23109648e-01\n   5.56765378e-01 -8.98409486e-01  1.53181624e+00  1.35913587e+00\n  -6.61301911e-01 -4.60069805e-01 -2.71394879e-01 -2.29347014e+00\n   1.39710689e+00  1.49868286e+00  4.11727577e-01  7.37852037e-01\n  -7.46350646e-01 -4.56662923e-01  2.31169894e-01  1.50518283e-01\n   6.40734971e-01  1.45425284e+00  4.51969236e-01 -5.23958027e-01\n   6.58534884e-01  5.22688746e-01 -1.92253664e-01 -9.22486186e-01\n  -1.60825640e-01 -3.42042536e-01 -2.74888705e-02 -1.62071931e+00\n  -6.04608893e-01  1.69908977e+00 -1.20347273e+00  1.02652204e+00\n   3.00872713e-01  3.12213600e-01 -4.04091448e-01 -2.27858678e-01\n   8.55159760e-01 -1.29426062e+00  8.81625041e-02  3.46671678e-02\n   6.22839034e-01 -2.47328535e-01  1.30608881e+00 -1.03052855e+00\n   8.55717286e-02 -1.01801527e+00  1.17916928e-03  9.76483405e-01\n  -1.51350692e-01 -1.11432147e+00  3.90768237e-02  2.35171080e+00\n  -8.18615437e-01  4.91419286e-01 -7.10577518e-02  1.29524362e+00\n   1.15592420e+00 -1.18602920e+00  8.59022796e-01 -5.33366680e-01\n  -9.04744029e-01 -8.18117023e-01  4.30474937e-01  1.50542825e-01\n   2.91984296e+00 -1.36673391e+00  9.33625221e-01 -1.28142941e+00\n  -9.53069746e-01 -1.53057992e+00 -1.21233380e+00 -1.77050456e-01\n  -2.66853333e+00 -1.48539889e+00  1.70971382e+00 -3.65016609e-01\n   9.17871669e-02  2.15795875e+00 -4.78320390e-01 -1.19603026e+00\n   3.09145617e+00 -8.65627304e-02  1.95425105e+00 -5.91154933e-01\n  -1.30567446e-01 -1.08823173e-01 -4.96101111e-01 -1.23251164e-02\n   8.70388895e-02  1.17101097e+00 -9.24932119e-03  1.84727013e+00\n  -1.17102361e+00 -1.03726077e+00  1.62069488e+00  1.76686868e-01\n  -1.60585678e+00  1.96737081e-01 -1.44083250e+00 -7.55628705e-01\n  -1.16187942e+00 -1.02344441e+00 -1.38928458e-01 -1.24251366e+00\n  -1.98850125e-01  3.93338054e-01 -1.89143550e+00 -1.75300312e+00\n   3.37986678e-01  4.75132048e-01  1.36850917e+00 -8.68635699e-02\n  -1.84612423e-01 -5.12483001e-01  6.21320665e-01  2.33453915e-01\n   7.97046244e-01 -2.57588458e+00 -1.27783072e+00 -1.83301717e-01\n   8.82229209e-02 -9.50185716e-01  4.21011508e-01 -7.31185317e-01\n   1.09267354e+00 -2.92503148e-01  8.57275009e-01  1.86006570e+00\n  -7.38318503e-01  3.66389424e-01 -2.35864186e+00  1.71291721e+00\n   1.09401143e+00 -9.55696166e-01  2.44598240e-01  7.51027167e-01\n   8.50335777e-01 -3.07962716e-01 -4.82324332e-01 -6.59629524e-01\n   2.10445642e+00 -2.66029924e-01 -2.25656128e+00 -1.93144071e+00\n   6.11215711e-01 -6.17718816e-01 -4.88849342e-01 -1.12490487e+00\n   5.36014676e-01  8.46195817e-02  5.90267368e-02 -2.23597601e-01\n   6.42356873e-01 -8.43301892e-01  1.18374336e+00 -5.17728209e-01\n   1.37841953e-02  1.27401352e+00  4.33887303e-01 -6.56307161e-01\n  -2.27882549e-01 -1.41801906e+00  7.84476101e-01  1.51522851e+00\n   7.88104832e-01  1.25017190e+00  9.17361557e-01 -2.55953878e-01\n   8.20411205e-01 -2.42388219e-01 -1.81426179e+00 -5.72991312e-01\n   9.08318996e-01 -8.39935660e-01 -2.94663042e-01  5.27261436e-01\n   1.28052902e+00 -2.68507218e+00  2.42121387e+00 -8.83669853e-01\n   3.23329598e-01  1.45727050e+00 -3.45133781e-01  2.41075084e-01\n   1.03220081e+00 -3.89923126e-01  7.48699784e-01  1.40366244e+00\n  -3.55010182e-01 -1.35241139e+00 -9.20110285e-01 -7.47334778e-01\n   4.54282999e-01  1.62678373e+00  1.57584679e+00 -1.29857552e+00\n   3.72073621e-01 -1.20066178e+00 -8.19005907e-01 -5.95399857e-01\n   6.52161002e-01 -9.11883295e-01 -2.08888665e-01  6.85293138e-01\n  -5.34489229e-02  3.31303149e-01 -1.64819205e+00  7.55677640e-01\n  -1.90947130e-01  1.89292407e+00 -5.71762383e-01 -7.71266401e-01\n   9.42019045e-01 -1.93896079e+00  1.52322364e+00  2.11109713e-01\n   1.38801003e+00  1.33017197e-01  2.47096643e-01 -9.54219162e-01\n   1.43214214e+00  2.42253184e+00  1.33371997e+00  3.97812665e-01\n   7.45718837e-01 -4.34715003e-01 -1.91673410e+00  1.02994084e+00\n  -2.34989494e-01 -6.97198331e-01  4.45950538e-01  1.18743636e-01\n  -4.19157714e-01  1.02558218e-01  2.44830236e-01 -5.22575453e-02\n  -1.88890457e-01 -9.39597130e-01  7.04230145e-02  4.52701986e-01\n   4.27195847e-01 -6.78198412e-02  1.55385613e+00  7.29575992e-01\n   1.72428727e-01 -3.67955208e-01  2.32881710e-01  3.78914803e-01\n   1.39417017e+00 -8.94212723e-01 -1.72819510e-01 -1.04917383e+00\n  -2.30614686e+00 -2.14356899e-01 -3.44329804e-01 -5.47167838e-01\n  -1.13273931e+00  8.25417578e-01  2.50310630e-01 -9.51004982e-01\n  -4.09423858e-01 -7.06318378e-01  6.20765269e-01  4.63331372e-01\n   6.31464958e-01 -1.46536195e+00  1.53980410e+00  1.32096803e+00\n   1.13308609e+00  6.37675643e-01  1.03732467e+00 -1.79726049e-01\n  -3.66375893e-01 -6.59814417e-01 -2.26117134e-01  1.86867929e+00\n   9.27276134e+00  1.29111871e-01 -7.35926688e-01 -7.26998389e-01\n   5.61192989e-01 -9.47915852e-01 -5.10125518e-01  1.12595367e+00\n   2.35031319e+00 -7.38507688e-01 -9.04009044e-01  4.68224376e-01\n  -5.93522406e+00  3.23581636e-01  9.09873784e-01  1.46589077e+00\n  -1.59476852e+00 -8.98279309e-01 -1.01571369e+00 -1.07424545e+00\n  -2.72711962e-01  7.45532870e-01  3.69461387e-01  4.10295343e+00\n  -2.01196536e-01 -2.97203481e-01  1.45708263e+00  1.14121437e-01\n   8.63311231e-01 -1.12631989e+00  8.44415665e-01 -5.51703930e-01\n  -4.24272239e-01  2.00760812e-01  5.96175551e-01 -9.58877861e-01\n   9.66493547e-01  4.81932700e-01  1.01143122e+00 -6.07167542e-01\n   5.82127925e-03  1.62150931e+00 -8.26270103e-01  4.92688268e-01\n   1.43327987e+00 -6.20699346e-01 -1.07248819e+00  2.01486635e+00\n   2.37361178e-01  1.69807422e+00  1.27456498e+00 -1.13528323e+00\n   1.31602156e+00 -4.76015806e-01  7.61600360e-02 -1.02400303e+00\n  -3.16589653e-01 -5.12761652e-01 -4.77949560e-01  5.50899088e-01\n  -8.48360181e-01 -4.16125238e-01 -9.31510329e-01  2.12633934e+01\n   1.40026182e-01  8.34721208e-01  6.89307332e-01  1.62019098e+00\n   1.14335251e+00  4.71730292e-01  3.37432623e-01  1.87969729e-01\n  -9.79647264e-02 -7.71971166e-01  2.74434447e+00 -8.32982585e-02\n  -7.34013855e-01  1.91455826e-01  1.39165425e+00  7.60715067e-01\n   1.38665998e+00 -5.92594266e-01  1.39906183e-01  4.14378345e-01\n   2.89433122e+00 -7.98528790e-01  1.15880287e+00  8.91448677e-01\n   1.38725734e+00  1.00067604e+00 -1.15862763e+00 -1.17594516e+00\n   1.62147319e+00 -5.31982303e-01 -1.00132239e+00 -7.75739327e-02\n  -2.37857819e+00 -2.57218099e+00 -5.27595878e-01 -1.06410041e-01\n  -6.29086435e-01 -1.31391466e+00 -2.28788114e+00  4.76383835e-01\n   6.15018904e-01  5.30518770e-01  3.54761779e-01 -5.74673176e-01\n  -1.10693049e+00  9.05947804e-01 -4.19266410e-02 -4.72807046e-03\n   4.00945932e-01 -2.08621621e-02 -3.55912656e-01  7.08070815e-01\n   1.19264352e+00 -6.24104179e-02  4.32295322e-01  1.85749304e+00\n  -1.09007168e+00  1.70245871e-01  5.45547128e-01  2.72471547e+00\n  -3.52722645e-01 -3.92912716e-01  1.26077616e+00  3.02813590e-01\n  -1.50956139e-01  1.75414998e-02 -5.35047531e+00  5.06355345e-01\n   2.48042077e-01  1.76369345e+00 -4.69755605e-02  4.97163296e-01\n   1.51987684e+00 -7.64128208e-01 -1.01447129e+00 -2.32905760e-01\n   1.02576435e+00 -1.30795288e+00 -1.11068167e-01 -5.24342731e-02\n   1.00252116e+00  5.64684212e-01  8.76980245e-01  3.02884877e-01\n   1.11588395e+00 -1.56995046e+00 -5.82703650e-01 -3.57232422e-01\n   1.79191232e-02  2.38357496e+00 -6.72558367e-01 -3.44791949e-01\n   7.05245435e-01 -2.24350080e-01  1.95120230e-01  2.71195829e-01\n   1.30105615e+00  5.14839649e-01  1.14889336e+00  7.19341218e-01\n  -1.81729293e+00 -2.78854281e-01  1.49568009e+00  1.58229902e-01\n  -7.56528899e-02 -3.98885310e-01 -1.73314667e+00 -1.43194997e+00\n   1.59330297e+00  1.13168943e+00 -1.78135931e+00 -1.98121297e+00\n   2.22346735e+00  9.10398662e-01  7.90187359e-01 -5.39213240e-01\n  -4.51921612e-01 -7.48806000e-01 -1.68554473e+00 -1.09859002e+00\n   1.98172319e+00  4.32322919e-01 -2.19922805e+00 -1.05760992e+00\n  -7.25314140e-01  1.87541509e+00  9.65745151e-01  1.40895379e+00\n   1.52152705e+00  2.84943193e-01  1.73551813e-01  2.01731348e+00\n  -7.42260456e-01 -8.87378514e-01 -4.22030419e-01 -1.40984401e-01\n   1.02766955e+00  5.21026075e-01  1.22596920e+00 -9.27923262e-01\n  -2.16478482e-01  1.72848904e+00 -1.34605563e+00 -2.09117627e+00\n   1.44011819e+00 -9.69740301e-02 -6.10758327e-02 -7.52108276e-01\n  -7.19990730e-01  2.56949235e-02  1.65460837e+00  9.31606963e-02\n  -2.20798567e-01  1.26760215e-01 -6.07529342e-01  1.46915722e+00\n   1.24538398e+00 -6.61436617e-01 -6.80579603e-01 -9.06717777e-01\n  -4.86898534e-02 -9.46743429e-01  1.11550711e-01  8.11637044e-01\n  -3.97760391e-01 -3.07877362e-01  7.84735233e-02 -3.86637151e-01\n  -5.37360050e-02 -9.90648568e-01 -3.73744786e-01  6.74278200e-01\n  -5.56203544e-01  1.27766693e+00 -2.05838278e-01 -1.40310287e+00\n   1.08215821e+00 -1.00126231e+00 -5.00850797e-01  1.73012123e-01\n  -1.48010623e+00  2.23836923e+00  3.05372179e-01 -1.12469062e-01\n  -1.04807889e+00  1.06338942e-02  1.91618040e-01  7.18826890e-01\n   3.15771788e-01 -6.59525037e-01 -8.70744810e-02 -2.66851693e-01\n  -5.24769485e-01  4.82757330e-01  1.59093308e+00  7.04573333e-01\n   1.41974378e+00  4.28142488e-01  1.22179425e+00 -9.94389415e-01\n  -2.42402717e-01 -1.77330601e+00  8.85734856e-01 -2.01898605e-01\n  -4.62442607e-01 -1.23466408e+00  3.01373959e-01 -2.16480041e+00\n   2.55361438e+00 -1.65488124e-02 -7.26416588e-01  1.03647316e+00\n  -5.37395000e-01 -4.20277894e-01 -2.44994909e-01  1.01138890e+00\n  -3.24535704e+00 -2.51763272e+00  1.27576196e+00 -1.21602111e-01\n  -1.45290530e+00 -1.31331480e+00 -1.42912412e+00 -1.33135784e+00\n  -6.19215071e-01 -3.73254031e-01  2.27068752e-01 -9.85455453e-01\n   6.66727901e-01  9.13472295e-01  4.68407094e-01  4.57144529e-01\n   6.61679387e-01  6.57301426e-01 -1.86900818e+00 -1.74582493e+00\n   3.83029163e-01 -1.80575073e+00  5.26660919e-01 -5.03926575e-01\n  -7.09059894e-01  1.38713109e+00  2.00959221e-01 -5.89585900e-01\n  -6.56285286e-01  9.34736788e-01 -3.74339044e-01  1.02245784e+00\n  -1.10465908e+00 -1.08620739e+00 -8.09088886e-01  8.40827525e-01\n  -9.16142285e-01  8.60862955e-02  9.15850341e-01  2.14965200e+00\n   4.22797054e-01  4.24443837e-03  6.93275273e-01 -1.25510311e+00\n   1.83584321e+00  3.90934348e+00 -1.18343639e+00 -1.15335844e-01\n   1.99559379e+00  8.10065940e-02  3.21704298e-01 -1.56492308e-01\n   3.41484815e-01 -6.14058912e-01 -1.05362523e+00  1.40197408e+00\n  -7.80538544e-02  1.18115556e+00  2.97409713e-01 -1.13904679e+00\n   4.97549959e-02  1.66001534e+00  2.36002374e-02 -5.98180413e-01\n   1.53384328e+00  3.19622941e-02  3.49709690e-01 -8.87404382e-01\n   1.70597643e-01  1.10817349e+00 -3.25435400e-01  8.43895614e-01\n  -3.42794840e-04 -6.00892961e-01  2.23853993e+00  9.51977432e-01\n   9.59795356e-01 -1.60763606e-01 -3.27944732e+00  7.52330482e-01\n   1.39394373e-01 -4.73225176e-01  8.83026540e-01  4.79894161e-01\n   7.03306377e-01 -4.70684588e-01  1.09314847e+00 -7.34275654e-02\n   9.78224799e-02  5.95410287e-01  2.04162613e-01  3.29394847e-01\n  -8.06506336e-01 -3.07766914e-01 -5.56375310e-02 -1.07591224e+00\n   9.61300015e-01 -2.37854242e+00 -3.67088556e+00 -7.91287720e-01\n  -6.83096230e-01  4.83901054e-01 -1.05888879e+00  1.80120778e+00\n  -1.03797650e+00 -1.89071286e+00  1.44669402e+00  7.47158051e-01\n   4.63175237e-01 -5.98433375e-01 -2.03550482e+00 -7.85810828e-01\n  -9.14268136e-01 -6.58299446e-01 -3.28449637e-01 -2.89715994e-02\n  -7.93844879e-01  1.48656464e+00 -3.35674614e-01 -5.33036530e-01\n  -1.11086440e+00 -1.02459490e+00  4.70111698e-01 -1.48971903e+00\n  -5.75083196e-01  1.42595541e+00  1.15209472e+00 -5.07621050e-01\n   5.81259251e-01  5.28827906e-01 -4.28907454e-01  7.30661809e-01\n   2.36636162e+00 -1.98560432e-01  4.82508749e-01  1.05387735e+00\n  -3.83448273e-01  1.77816474e+00 -9.84099686e-01  1.70607054e+00\n   1.57895958e+00 -5.00172317e-01 -4.79241788e-01 -4.21488464e-01\n   9.42923069e-01  8.69765401e-01 -1.58600599e-01  1.22955298e+00\n   1.15017009e+00  6.76523566e-01  4.17585075e-01  1.14042187e+00\n   4.68477666e-01  9.10558224e-01 -1.15814054e+00 -1.51551291e-01\n  -8.36062849e-01 -1.10915291e+00  6.40082359e-01 -1.31738484e+00\n  -1.16454864e+00  5.62876403e-01  4.03905183e-01  1.80995136e-01\n  -1.64850861e-01 -6.90869391e-01  2.40002418e+00 -1.82625398e-01\n   7.27393925e-01 -9.35074210e-01  2.59011316e+00 -6.50786221e-01\n  -1.17586195e+00 -1.83647156e-01 -1.64852643e+00 -1.16210067e+00\n  -5.58969855e-01 -9.45629597e-01  1.23124659e+00  5.46655357e-01\n   7.71310925e-02 -3.37209612e-01  7.88128376e-01 -2.03363466e+00\n  -2.16178801e-02 -1.37035871e+00  1.11262512e+00 -4.05581862e-01\n   1.26893687e+00 -3.54613841e-01 -8.95539284e-01  6.61701262e-01\n   4.63343918e-01 -2.10565901e+00 -1.24906266e+00 -9.36962962e-02\n  -1.77417839e+00 -1.58740625e-01 -2.47906283e-01  3.11556846e-01\n  -4.60276335e-01  6.31542146e-01 -7.53406703e-01  1.31392860e+00\n  -6.56452835e-01 -1.55307114e+00  6.29164994e-01  1.84119308e+00\n  -1.46019354e-01  4.37252712e+00  3.74183387e-01 -2.05794349e-01\n  -5.68658054e-01 -1.46752477e+00  7.19560087e-01 -6.02674901e-01\n  -2.04321787e-01 -4.37880099e-01 -3.82479817e-01  1.41877174e+00\n  -7.19685018e-01 -9.64334130e-01 -3.50946993e-01  1.17479610e+00\n   1.28975287e-01 -7.22615123e-01  1.31005079e-01 -7.28804529e-01\n   5.29350638e-01  3.99230331e-01 -5.68817437e-01  3.83204401e-01\n   9.59104393e-03 -7.03227818e-01 -8.95230889e-01 -1.96588004e+00\n   7.24341869e-01  7.86117017e-01  1.52438611e-01 -2.30425626e-01\n  -1.12126946e+00 -8.45716119e-01  4.07516629e-01  2.19598508e+00\n  -1.02664697e+00 -1.38376319e+00 -9.80693817e-01 -8.71778876e-02\n  -4.84493434e-01 -1.65351415e+00  1.53968441e+00 -1.40440106e+00\n  -1.60189080e+00 -2.97682810e+00 -1.66528955e-01 -2.06074476e+00\n   1.71879518e+00 -4.62474674e-01 -2.00280905e+00  6.00606918e-01\n   3.23955119e-01  4.03867036e-01  5.56072772e-01  8.77008617e-01\n   7.56530881e-01 -8.10845673e-01  9.63885128e-01  2.17988372e+00\n  -2.77880162e-01  3.92561287e-01 -2.17764950e+00  3.13179702e-01\n  -1.61296463e+00  1.02534044e+00  1.90372455e+00  4.13529903e-01\n  -1.28280699e+00  8.59996676e-01  3.76085311e-01  4.53146398e-01\n   3.53422821e-01 -4.73335743e-01 -2.47027946e+00  1.95194349e-01\n  -8.72071564e-01 -3.29889148e-01  6.79667950e-01  9.45386589e-01\n   9.30185840e-02  1.71260703e+00  5.03837228e-01  8.07952061e-02\n  -3.47905219e-01  4.16913301e-01  2.65894532e-01  3.49764794e-01\n   1.28810859e+00 -1.80957317e-01 -9.20995176e-01  6.87635064e-01\n  -2.92899042e-01 -1.62281677e-01 -1.69209790e+00  2.79529905e+00\n  -9.84615505e-01  6.05340481e-01  8.58887553e-01  1.70400333e+00\n   3.91560823e-01  1.67933255e-01  2.91269988e-01 -5.74743211e-01\n  -1.17875397e+00 -1.29801297e+00  6.33724689e-01  3.79947275e-01\n   2.71713495e-01 -3.21366996e-01 -8.54160011e-01 -9.33266938e-01\n   1.45815313e+00 -5.05224407e-01  1.20598245e+00  2.04307103e+00\n   2.00120211e-01 -1.81950152e+00  8.63612235e-01 -2.59352744e-01\n  -6.03215098e-01 -3.68270367e-01  1.83676407e-01 -1.08306959e-01\n   3.39051068e-01 -1.07918906e+00  1.05716012e-01 -5.35799384e-01\n  -1.83686972e-01  2.58990788e+00 -1.89937198e+00 -6.39326498e-02\n   6.42469525e-01 -2.40058208e+00 -1.97350490e+00 -1.67832494e+00\n   6.35814607e-01 -1.46078694e+00 -5.87325037e-01  1.77091390e-01\n  -1.59894839e-01  6.06094837e-01 -2.74528116e-01 -2.92393982e-01\n   5.29970348e-01  4.78028089e-01  4.85813439e-01 -2.80710816e+00\n   1.28885782e+00 -9.60345924e-01  1.23860307e-01  5.28089106e-01\n  -9.29280162e-01  1.05215240e+00  1.35991037e+00  1.84102547e+00\n   2.45613828e-01 -6.49640039e-02 -6.45879090e-01 -1.46607482e+00\n   6.09433174e-01  4.85749871e-01 -1.38933674e-01  1.09546590e+00\n   2.05633855e+00  1.31839252e+00 -1.25426066e+00 -1.96426022e+00\n   1.92757845e-01  1.24378130e-01 -4.09005433e-01  3.16389412e-01\n   9.90735352e-01  6.90419614e-01 -1.18057156e+00 -1.06755710e+00\n   4.53178644e-01  1.10530770e+00  5.02901435e-01  1.03657842e+00]]\n"
          ]
        }
      ],
      "source": [
        "print(embeddings_np)"
      ]
    },
    {
      "cell_type": "markdown",
      "metadata": {
        "application/vnd.databricks.v1+cell": {
          "cellMetadata": {},
          "inputWidgets": {},
          "nuid": "d75780b3-e283-402a-895e-7de7b22dcd9d",
          "showTitle": false,
          "title": ""
        },
        "id": "BjcmKERSMwHc"
      },
      "source": [
        "## Embeddings"
      ]
    },
    {
      "cell_type": "code",
      "execution_count": null,
      "metadata": {
        "application/vnd.databricks.v1+cell": {
          "cellMetadata": {
            "byteLimit": 2048000,
            "rowLimit": 10000
          },
          "inputWidgets": {},
          "nuid": "4451a930-0d4c-4ecb-ab73-ec6c20e85d4a",
          "showTitle": false,
          "title": ""
        },
        "id": "lO5bSsO-MwHc"
      },
      "outputs": [],
      "source": [
        "from transformers import BertTokenizer, BertModel\n",
        "import torch"
      ]
    },
    {
      "cell_type": "code",
      "execution_count": null,
      "metadata": {
        "application/vnd.databricks.v1+cell": {
          "cellMetadata": {
            "byteLimit": 2048000,
            "rowLimit": 10000
          },
          "inputWidgets": {},
          "nuid": "a70369a7-1ff3-4c90-9255-ac849d37dbaa",
          "showTitle": false,
          "title": ""
        },
        "id": "i0c2U9y4MwHc"
      },
      "outputs": [],
      "source": [
        "tokenizer = BertTokenizer.from_pretrained('google-bert/bert-base-multilingual-cased')\n",
        "model = BertModel.from_pretrained('google-bert/bert-base-multilingual-cased')"
      ]
    },
    {
      "cell_type": "code",
      "execution_count": null,
      "metadata": {
        "application/vnd.databricks.v1+cell": {
          "cellMetadata": {
            "byteLimit": 2048000,
            "rowLimit": 10000
          },
          "inputWidgets": {},
          "nuid": "7263d4e8-06a3-4d80-853c-9a40710ad499",
          "showTitle": false,
          "title": ""
        },
        "id": "KSR22NFbMwHc"
      },
      "outputs": [],
      "source": [
        "import numpy as np\n",
        "np.set_printoptions(threshold=10)"
      ]
    },
    {
      "cell_type": "code",
      "execution_count": null,
      "metadata": {
        "application/vnd.databricks.v1+cell": {
          "cellMetadata": {
            "byteLimit": 2048000,
            "rowLimit": 10000
          },
          "inputWidgets": {},
          "nuid": "f078913f-3a09-4234-b619-9c995ff9307f",
          "showTitle": false,
          "title": ""
        },
        "id": "cq_TmBvBMwHd",
        "outputId": "390064c1-2c30-44b2-e48c-19698721b172"
      },
      "outputs": [
        {
          "output_type": "stream",
          "name": "stdout",
          "text": [
            "Embedding contextual para la frase: 'Me senté en el banco.'\nEmbedding de 'banco' (vector): [-0.19163647 -0.4503448   0.34074116 ...  0.41328615  0.04915576\n  0.4850212 ]\n\nEmbedding contextual para la frase: 'Fui al banco a depositar dinero.'\nEmbedding de 'banco' (vector): [ 0.09040447 -1.0858136   0.9709251  ... -0.2384639  -0.48175544\n  0.5727483 ]\n\n"
          ]
        }
      ],
      "source": [
        "# Frases de ejemplo\n",
        "sentences = [\n",
        "    \"Me senté en el banco.\",\n",
        "    \"Fui al banco a depositar dinero.\"\n",
        "]\n",
        "\n",
        "# Obtener embeddings contextuales\n",
        "for sentence in sentences:\n",
        "    # Tokenizar la frase\n",
        "    inputs = tokenizer(sentence, return_tensors=\"pt\")\n",
        "\n",
        "    # Obtener los embeddings de BERT\n",
        "    outputs = model(**inputs)\n",
        "    embeddings = outputs.last_hidden_state\n",
        "\n",
        "    # Extraer el embedding específico para \"banco\"\n",
        "    word_no_context = \"banco\"\n",
        "    banco_index = inputs['input_ids'][0].tolist().index(tokenizer.encode(word_no_context)[1])  # Buscar índice de \"banco\"\n",
        "\n",
        "    # Obtener embedding correspondiente y convertir a numpy para visualización\n",
        "    banco_embedding = embeddings[0][banco_index].detach().numpy()\n",
        "\n",
        "    print(f\"Embedding contextual para la frase: '{sentence}'\")\n",
        "    print(f\"Embedding de 'banco' (vector): {banco_embedding}\\n\")\n"
      ]
    },
    {
      "cell_type": "markdown",
      "metadata": {
        "application/vnd.databricks.v1+cell": {
          "cellMetadata": {},
          "inputWidgets": {},
          "nuid": "c6cf7043-445b-4c09-8602-f39385fd8c01",
          "showTitle": false,
          "title": ""
        },
        "id": "HSd6m6dYMwHe"
      },
      "source": [
        "## Funciones de distancia entre secuencias"
      ]
    },
    {
      "cell_type": "code",
      "execution_count": null,
      "metadata": {
        "application/vnd.databricks.v1+cell": {
          "cellMetadata": {
            "byteLimit": 2048000,
            "rowLimit": 10000
          },
          "inputWidgets": {},
          "nuid": "5d657bc8-47a4-45fc-a5d1-4bdac6f33d13",
          "showTitle": false,
          "title": ""
        },
        "id": "NedOgcU5MwHe"
      },
      "outputs": [],
      "source": [
        "oraciones = [\n",
        "    \"Me gusta el clima cálido.\",                # Oración 1\n",
        "    \"Prefiero el clima templado.\",               # Oración 2\n",
        "    \"Amo las playas de verano.\",                 # Oración 3 (cercana)\n",
        "    \"El frío invierno es difícil de soportar.\", # Oración 4 (distante)\n",
        "    \"Me encanta la música rock.\",                 # Oración 5 (distante)\n",
        "    \"Disfruto de la música clásica.\"              # Oración 6 (distante)\n",
        "]"
      ]
    },
    {
      "cell_type": "code",
      "execution_count": null,
      "metadata": {
        "application/vnd.databricks.v1+cell": {
          "cellMetadata": {
            "byteLimit": 2048000,
            "rowLimit": 10000
          },
          "inputWidgets": {},
          "nuid": "4e793a3e-1846-4691-b9fc-456f3aae3765",
          "showTitle": false,
          "title": ""
        },
        "id": "aM6pdkWrMwHe"
      },
      "outputs": [],
      "source": [
        "embeddings = []\n",
        "for oracion in oraciones:\n",
        "    inputs = tokenizer(oracion, return_tensors='pt')\n",
        "    with torch.no_grad():\n",
        "        outputs = model(**inputs)\n",
        "    # Tomar el embedding de la [CLS] token como representación de la oración\n",
        "    embedding = outputs.last_hidden_state[0][0].numpy()\n",
        "    embeddings.append(embedding)"
      ]
    },
    {
      "cell_type": "code",
      "execution_count": null,
      "metadata": {
        "application/vnd.databricks.v1+cell": {
          "cellMetadata": {
            "byteLimit": 2048000,
            "rowLimit": 10000
          },
          "inputWidgets": {},
          "nuid": "d37a39f3-06cc-4069-ad3c-c4ef916557de",
          "showTitle": false,
          "title": ""
        },
        "id": "903sREHhMwHe"
      },
      "outputs": [],
      "source": [
        "from sklearn.metrics.pairwise import cosine_similarity\n",
        "similitudes = []\n",
        "for i in range(len(embeddings)):\n",
        "    for j in range(i + 1, len(embeddings)):\n",
        "        sim = cosine_similarity([embeddings[i]], [embeddings[j]])\n",
        "        similitudes.append((oraciones[i], oraciones[j], sim[0][0]))"
      ]
    },
    {
      "cell_type": "code",
      "execution_count": null,
      "metadata": {
        "application/vnd.databricks.v1+cell": {
          "cellMetadata": {
            "byteLimit": 2048000,
            "rowLimit": 10000
          },
          "inputWidgets": {},
          "nuid": "038ea283-ca1b-4cf7-a2f9-a2bc2c9d275c",
          "showTitle": false,
          "title": ""
        },
        "id": "cvmwfX9eMwHe",
        "outputId": "d7466b94-f720-4cf3-817a-87e64b1df727"
      },
      "outputs": [
        {
          "output_type": "stream",
          "name": "stdout",
          "text": [
            "[('Me gusta el clima cálido.', 'Prefiero el clima templado.', 0.74945223), ('Me gusta el clima cálido.', 'Amo las playas de verano.', 0.9167605), ('Me gusta el clima cálido.', 'El frío invierno es difícil de soportar.', 0.9512081), ('Me gusta el clima cálido.', 'Me encanta la música rock.', 0.87791073), ('Me gusta el clima cálido.', 'Disfruto de la música clásica.', 0.84370434), ('Prefiero el clima templado.', 'Amo las playas de verano.', 0.6265668), ('Prefiero el clima templado.', 'El frío invierno es difícil de soportar.', 0.7326039), ('Prefiero el clima templado.', 'Me encanta la música rock.', 0.6111083), ('Prefiero el clima templado.', 'Disfruto de la música clásica.', 0.58056545), ('Amo las playas de verano.', 'El frío invierno es difícil de soportar.', 0.894644), ('Amo las playas de verano.', 'Me encanta la música rock.', 0.89546746), ('Amo las playas de verano.', 'Disfruto de la música clásica.', 0.8810564), ('El frío invierno es difícil de soportar.', 'Me encanta la música rock.', 0.8536143), ('El frío invierno es difícil de soportar.', 'Disfruto de la música clásica.', 0.8310974), ('Me encanta la música rock.', 'Disfruto de la música clásica.', 0.905493)]\n"
          ]
        }
      ],
      "source": [
        "print(similitudes)"
      ]
    },
    {
      "cell_type": "code",
      "execution_count": null,
      "metadata": {
        "application/vnd.databricks.v1+cell": {
          "cellMetadata": {
            "byteLimit": 2048000,
            "rowLimit": 10000
          },
          "inputWidgets": {},
          "nuid": "e4542f6e-65bc-4fb5-82fb-d61bdadc73c6",
          "showTitle": false,
          "title": ""
        },
        "id": "62omrAMKMwHf",
        "outputId": "502c0caf-ba52-4587-9fd4-c88f70f4a042"
      },
      "outputs": [
        {
          "output_type": "stream",
          "name": "stdout",
          "text": [
            "Similitud entre 'Me gusta el clima cálido.' y 'Prefiero el clima templado.': 0.7495\nSimilitud entre 'Me gusta el clima cálido.' y 'Amo las playas de verano.': 0.9168\nSimilitud entre 'Me gusta el clima cálido.' y 'El frío invierno es difícil de soportar.': 0.9512\nSimilitud entre 'Me gusta el clima cálido.' y 'Me encanta la música rock.': 0.8779\nSimilitud entre 'Me gusta el clima cálido.' y 'Disfruto de la música clásica.': 0.8437\nSimilitud entre 'Prefiero el clima templado.' y 'Amo las playas de verano.': 0.6266\nSimilitud entre 'Prefiero el clima templado.' y 'El frío invierno es difícil de soportar.': 0.7326\nSimilitud entre 'Prefiero el clima templado.' y 'Me encanta la música rock.': 0.6111\nSimilitud entre 'Prefiero el clima templado.' y 'Disfruto de la música clásica.': 0.5806\nSimilitud entre 'Amo las playas de verano.' y 'El frío invierno es difícil de soportar.': 0.8946\nSimilitud entre 'Amo las playas de verano.' y 'Me encanta la música rock.': 0.8955\nSimilitud entre 'Amo las playas de verano.' y 'Disfruto de la música clásica.': 0.8811\nSimilitud entre 'El frío invierno es difícil de soportar.' y 'Me encanta la música rock.': 0.8536\nSimilitud entre 'El frío invierno es difícil de soportar.' y 'Disfruto de la música clásica.': 0.8311\nSimilitud entre 'Me encanta la música rock.' y 'Disfruto de la música clásica.': 0.9055\n"
          ]
        }
      ],
      "source": [
        "for oracion1, oracion2, sim in similitudes:\n",
        "    print(f\"Similitud entre '{oracion1}' y '{oracion2}': {sim:.4f}\")"
      ]
    },
    {
      "cell_type": "code",
      "execution_count": null,
      "metadata": {
        "application/vnd.databricks.v1+cell": {
          "cellMetadata": {
            "byteLimit": 2048000,
            "rowLimit": 10000
          },
          "inputWidgets": {},
          "nuid": "59aaf266-a477-4432-b527-b71643cc2e1f",
          "showTitle": false,
          "title": ""
        },
        "id": "sS6EdChLMwHf"
      },
      "outputs": [],
      "source": [
        "import pandas as pd\n",
        "import seaborn as sns\n",
        "import matplotlib.pyplot as plt\n",
        "\n",
        "similitudes = cosine_similarity(embeddings)\n",
        "\n",
        "\n",
        "df_similitud = pd.DataFrame(similitudes, index=oraciones, columns=oraciones)"
      ]
    },
    {
      "cell_type": "code",
      "execution_count": null,
      "metadata": {
        "application/vnd.databricks.v1+cell": {
          "cellMetadata": {
            "byteLimit": 2048000,
            "rowLimit": 10000
          },
          "inputWidgets": {},
          "nuid": "78e44971-bde5-4181-9b31-cc49c9681c55",
          "showTitle": false,
          "title": ""
        },
        "id": "-ps5HH2UMwHf",
        "outputId": "3ab96669-e94e-4eff-e29c-8e213207c99b"
      },
      "outputs": [
        {
          "output_type": "execute_result",
          "data": {
            "text/html": [
              "<div>\n",
              "<style scoped>\n",
              "    .dataframe tbody tr th:only-of-type {\n",
              "        vertical-align: middle;\n",
              "    }\n",
              "\n",
              "    .dataframe tbody tr th {\n",
              "        vertical-align: top;\n",
              "    }\n",
              "\n",
              "    .dataframe thead th {\n",
              "        text-align: right;\n",
              "    }\n",
              "</style>\n",
              "<table border=\"1\" class=\"dataframe\">\n",
              "  <thead>\n",
              "    <tr style=\"text-align: right;\">\n",
              "      <th></th>\n",
              "      <th>Me gusta el clima cálido.</th>\n",
              "      <th>Prefiero el clima templado.</th>\n",
              "      <th>Amo las playas de verano.</th>\n",
              "      <th>El frío invierno es difícil de soportar.</th>\n",
              "      <th>Me encanta la música rock.</th>\n",
              "      <th>Disfruto de la música clásica.</th>\n",
              "    </tr>\n",
              "  </thead>\n",
              "  <tbody>\n",
              "    <tr>\n",
              "      <th>Me gusta el clima cálido.</th>\n",
              "      <td>1.000000</td>\n",
              "      <td>0.749452</td>\n",
              "      <td>0.916761</td>\n",
              "      <td>0.951208</td>\n",
              "      <td>0.877911</td>\n",
              "      <td>0.843704</td>\n",
              "    </tr>\n",
              "    <tr>\n",
              "      <th>Prefiero el clima templado.</th>\n",
              "      <td>0.749452</td>\n",
              "      <td>1.000000</td>\n",
              "      <td>0.626567</td>\n",
              "      <td>0.732604</td>\n",
              "      <td>0.611108</td>\n",
              "      <td>0.580565</td>\n",
              "    </tr>\n",
              "    <tr>\n",
              "      <th>Amo las playas de verano.</th>\n",
              "      <td>0.916761</td>\n",
              "      <td>0.626567</td>\n",
              "      <td>1.000000</td>\n",
              "      <td>0.894644</td>\n",
              "      <td>0.895468</td>\n",
              "      <td>0.881056</td>\n",
              "    </tr>\n",
              "    <tr>\n",
              "      <th>El frío invierno es difícil de soportar.</th>\n",
              "      <td>0.951208</td>\n",
              "      <td>0.732604</td>\n",
              "      <td>0.894644</td>\n",
              "      <td>1.000000</td>\n",
              "      <td>0.853614</td>\n",
              "      <td>0.831098</td>\n",
              "    </tr>\n",
              "    <tr>\n",
              "      <th>Me encanta la música rock.</th>\n",
              "      <td>0.877911</td>\n",
              "      <td>0.611108</td>\n",
              "      <td>0.895468</td>\n",
              "      <td>0.853614</td>\n",
              "      <td>1.000000</td>\n",
              "      <td>0.905493</td>\n",
              "    </tr>\n",
              "    <tr>\n",
              "      <th>Disfruto de la música clásica.</th>\n",
              "      <td>0.843704</td>\n",
              "      <td>0.580565</td>\n",
              "      <td>0.881056</td>\n",
              "      <td>0.831098</td>\n",
              "      <td>0.905493</td>\n",
              "      <td>1.000000</td>\n",
              "    </tr>\n",
              "  </tbody>\n",
              "</table>\n",
              "</div>"
            ],
            "text/plain": [
              "                                          Me gusta el clima cálido.  ...  Disfruto de la música clásica.\n",
              "Me gusta el clima cálido.                                  1.000000  ...                        0.843704\n",
              "Prefiero el clima templado.                                0.749452  ...                        0.580565\n",
              "Amo las playas de verano.                                  0.916761  ...                        0.881056\n",
              "El frío invierno es difícil de soportar.                   0.951208  ...                        0.831098\n",
              "Me encanta la música rock.                                 0.877911  ...                        0.905493\n",
              "Disfruto de la música clásica.                             0.843704  ...                        1.000000\n",
              "\n",
              "[6 rows x 6 columns]"
            ]
          },
          "execution_count": 43,
          "metadata": {}
        }
      ],
      "source": [
        "df_similitud"
      ]
    },
    {
      "cell_type": "code",
      "execution_count": null,
      "metadata": {
        "application/vnd.databricks.v1+cell": {
          "cellMetadata": {
            "byteLimit": 2048000,
            "rowLimit": 10000
          },
          "inputWidgets": {},
          "nuid": "8be20b6a-2c32-4c90-b88a-a1ecaec8cdc0",
          "showTitle": false,
          "title": ""
        },
        "id": "VLG5C_DfMwHf",
        "outputId": "e0bd7495-81ba-4752-ff29-715d197d2432"
      },
      "outputs": [
        {
          "output_type": "display_data",
          "data": {
            "image/png": "[encoded data removed]",
            "text/plain": [
              "<Figure size 600x400 with 2 Axes>"
            ]
          },
          "metadata": {}
        }
      ],
      "source": [
        "plt.figure(figsize=(6, 4))\n",
        "sns.heatmap(df_similitud, annot=True, cmap='coolwarm', cbar=True, square=True, fmt=\".2f\", linewidths=.2)\n",
        "\n",
        "# Ajustar los letreros\n",
        "plt.title('Matriz de Similitud entre Oraciones')\n",
        "plt.xticks(rotation=45, ha='right')\n",
        "plt.yticks(rotation=0, ha='right')\n",
        "plt.show()"
      ]
    }
  ],
  "metadata": {
    "application/vnd.databricks.v1+notebook": {
      "dashboards": [],
      "environmentMetadata": {
        "base_environment": "",
        "client": "1"
      },
      "language": "python",
      "notebookMetadata": {
        "pythonIndentUnit": 4
      },
      "notebookName": "LLM_Tokenization_Databricks",
      "widgets": {}
    },
    "colab": {
      "provenance": [],
      "include_colab_link": true
    }
  },
  "nbformat": 4,
  "nbformat_minor": 0
}